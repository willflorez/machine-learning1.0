{
 "cells": [
  {
   "cell_type": "code",
   "execution_count": 1,
   "metadata": {},
   "outputs": [],
   "source": [
    "import pandas as pd\n",
    "import matplotlib.pyplot as plt\n",
    "import seaborn as sns\n",
    "%load_ext autoreload\n",
    "%autoreload 2\n",
    "import warnings\n",
    "warnings.filterwarnings(\"ignore\")"
   ]
  },
  {
   "cell_type": "markdown",
   "metadata": {},
   "source": [
    "ANALISIS EXPLORATORIO DE DATOS DATAFRAME REVIEWS"
   ]
  },
  {
   "cell_type": "code",
   "execution_count": 2,
   "metadata": {},
   "outputs": [
    {
     "data": {
      "text/html": [
       "<div>\n",
       "<style scoped>\n",
       "    .dataframe tbody tr th:only-of-type {\n",
       "        vertical-align: middle;\n",
       "    }\n",
       "\n",
       "    .dataframe tbody tr th {\n",
       "        vertical-align: top;\n",
       "    }\n",
       "\n",
       "    .dataframe thead th {\n",
       "        text-align: right;\n",
       "    }\n",
       "</style>\n",
       "<table border=\"1\" class=\"dataframe\">\n",
       "  <thead>\n",
       "    <tr style=\"text-align: right;\">\n",
       "      <th></th>\n",
       "      <th>funny</th>\n",
       "      <th>posted</th>\n",
       "      <th>last_edited</th>\n",
       "      <th>item_id</th>\n",
       "      <th>helpful</th>\n",
       "      <th>recommend</th>\n",
       "      <th>user_id</th>\n",
       "      <th>user_url</th>\n",
       "      <th>sentiment_analysis</th>\n",
       "    </tr>\n",
       "  </thead>\n",
       "  <tbody>\n",
       "    <tr>\n",
       "      <th>0</th>\n",
       "      <td></td>\n",
       "      <td>2011-11-05</td>\n",
       "      <td></td>\n",
       "      <td>1250</td>\n",
       "      <td>No ratings yet</td>\n",
       "      <td>True</td>\n",
       "      <td>76561197970982479</td>\n",
       "      <td>http://steamcommunity.com/profiles/76561197970...</td>\n",
       "      <td>2</td>\n",
       "    </tr>\n",
       "    <tr>\n",
       "      <th>1</th>\n",
       "      <td></td>\n",
       "      <td>2011-07-15</td>\n",
       "      <td></td>\n",
       "      <td>22200</td>\n",
       "      <td>No ratings yet</td>\n",
       "      <td>True</td>\n",
       "      <td>76561197970982479</td>\n",
       "      <td>http://steamcommunity.com/profiles/76561197970...</td>\n",
       "      <td>2</td>\n",
       "    </tr>\n",
       "  </tbody>\n",
       "</table>\n",
       "</div>"
      ],
      "text/plain": [
       "  funny      posted last_edited item_id         helpful  recommend  \\\n",
       "0        2011-11-05                1250  No ratings yet       True   \n",
       "1        2011-07-15               22200  No ratings yet       True   \n",
       "\n",
       "             user_id                                           user_url  \\\n",
       "0  76561197970982479  http://steamcommunity.com/profiles/76561197970...   \n",
       "1  76561197970982479  http://steamcommunity.com/profiles/76561197970...   \n",
       "\n",
       "   sentiment_analysis  \n",
       "0                   2  \n",
       "1                   2  "
      ]
     },
     "execution_count": 2,
     "metadata": {},
     "output_type": "execute_result"
    }
   ],
   "source": [
    "reviews = pd.read_parquet('ETLreviews.parquet')\n",
    "reviews.head(2)"
   ]
  },
  {
   "cell_type": "markdown",
   "metadata": {},
   "source": [
    "NECESITO CON EL FIN DE CREAR LAS FUNCIONES SOLICITADAS OBTENER EL AÑO DEL REVIEW SE EXTRAE EL AÑO EN LA COLUMNA POSTED_YEAR Y SE ELIMINA LA COLUMNA POSTED"
   ]
  },
  {
   "cell_type": "code",
   "execution_count": 6,
   "metadata": {},
   "outputs": [],
   "source": [
    "reviews['posted'] = pd.to_datetime(reviews['posted'], format='%Y-%m-%d', errors='coerce')\n",
    "reviews['posted_year'] = reviews['posted'].dt.year\n",
    "reviews['posted_year'] = reviews['posted_year'].astype('Int64')\n",
    "reviews['posted_year'].fillna(0, inplace=True)\n",
    "reviews.drop(columns=['posted'], inplace=True)"
   ]
  },
  {
   "cell_type": "code",
   "execution_count": 189,
   "metadata": {},
   "outputs": [
    {
     "data": {
      "text/html": [
       "<div>\n",
       "<style scoped>\n",
       "    .dataframe tbody tr th:only-of-type {\n",
       "        vertical-align: middle;\n",
       "    }\n",
       "\n",
       "    .dataframe tbody tr th {\n",
       "        vertical-align: top;\n",
       "    }\n",
       "\n",
       "    .dataframe thead th {\n",
       "        text-align: right;\n",
       "    }\n",
       "</style>\n",
       "<table border=\"1\" class=\"dataframe\">\n",
       "  <thead>\n",
       "    <tr style=\"text-align: right;\">\n",
       "      <th></th>\n",
       "      <th>item_id</th>\n",
       "      <th>recommend</th>\n",
       "      <th>user_id</th>\n",
       "      <th>sentiment_analysis</th>\n",
       "      <th>posted_year</th>\n",
       "    </tr>\n",
       "  </thead>\n",
       "  <tbody>\n",
       "    <tr>\n",
       "      <th>0</th>\n",
       "      <td>1250</td>\n",
       "      <td>True</td>\n",
       "      <td>76561197970982479</td>\n",
       "      <td>2</td>\n",
       "      <td>2011</td>\n",
       "    </tr>\n",
       "    <tr>\n",
       "      <th>1</th>\n",
       "      <td>22200</td>\n",
       "      <td>True</td>\n",
       "      <td>76561197970982479</td>\n",
       "      <td>2</td>\n",
       "      <td>2011</td>\n",
       "    </tr>\n",
       "  </tbody>\n",
       "</table>\n",
       "</div>"
      ],
      "text/plain": [
       "  item_id  recommend            user_id  sentiment_analysis  posted_year\n",
       "0    1250       True  76561197970982479                   2         2011\n",
       "1   22200       True  76561197970982479                   2         2011"
      ]
     },
     "execution_count": 189,
     "metadata": {},
     "output_type": "execute_result"
    }
   ],
   "source": [
    "reviews.head(2)"
   ]
  },
  {
   "cell_type": "markdown",
   "metadata": {},
   "source": [
    "ELIMINO COLUMNAS INNECESARIAS PARA EL PROYECTO COMO FUNNY, LAST_EDITED, HELPFUL Y USER_URL"
   ]
  },
  {
   "cell_type": "code",
   "execution_count": 17,
   "metadata": {},
   "outputs": [],
   "source": [
    "reviews.drop(columns=['funny'], inplace=True)\n",
    "reviews.drop(columns=['last_edited'], inplace=True)\n",
    "reviews.drop(columns=['helpful'], inplace=True)\n",
    "reviews.drop(columns=['user_url'], inplace=True)"
   ]
  },
  {
   "cell_type": "code",
   "execution_count": 18,
   "metadata": {},
   "outputs": [
    {
     "data": {
      "text/html": [
       "<div>\n",
       "<style scoped>\n",
       "    .dataframe tbody tr th:only-of-type {\n",
       "        vertical-align: middle;\n",
       "    }\n",
       "\n",
       "    .dataframe tbody tr th {\n",
       "        vertical-align: top;\n",
       "    }\n",
       "\n",
       "    .dataframe thead th {\n",
       "        text-align: right;\n",
       "    }\n",
       "</style>\n",
       "<table border=\"1\" class=\"dataframe\">\n",
       "  <thead>\n",
       "    <tr style=\"text-align: right;\">\n",
       "      <th></th>\n",
       "      <th>item_id</th>\n",
       "      <th>recommend</th>\n",
       "      <th>user_id</th>\n",
       "      <th>sentiment_analysis</th>\n",
       "      <th>posted_year</th>\n",
       "    </tr>\n",
       "  </thead>\n",
       "  <tbody>\n",
       "    <tr>\n",
       "      <th>0</th>\n",
       "      <td>1250</td>\n",
       "      <td>True</td>\n",
       "      <td>76561197970982479</td>\n",
       "      <td>2</td>\n",
       "      <td>2011</td>\n",
       "    </tr>\n",
       "    <tr>\n",
       "      <th>1</th>\n",
       "      <td>22200</td>\n",
       "      <td>True</td>\n",
       "      <td>76561197970982479</td>\n",
       "      <td>2</td>\n",
       "      <td>2011</td>\n",
       "    </tr>\n",
       "  </tbody>\n",
       "</table>\n",
       "</div>"
      ],
      "text/plain": [
       "  item_id  recommend            user_id  sentiment_analysis  posted_year\n",
       "0    1250       True  76561197970982479                   2         2011\n",
       "1   22200       True  76561197970982479                   2         2011"
      ]
     },
     "execution_count": 18,
     "metadata": {},
     "output_type": "execute_result"
    }
   ],
   "source": [
    "reviews.head(2)"
   ]
  },
  {
   "cell_type": "code",
   "execution_count": 19,
   "metadata": {},
   "outputs": [],
   "source": [
    "reviews.to_parquet('ETLreviews.parquet', engine = 'pyarrow')"
   ]
  },
  {
   "cell_type": "markdown",
   "metadata": {},
   "source": [
    "ANALISIS EXPLORATORIO DE DATOS DATAFRAME ITEMS"
   ]
  },
  {
   "cell_type": "code",
   "execution_count": 3,
   "metadata": {},
   "outputs": [
    {
     "data": {
      "text/html": [
       "<div>\n",
       "<style scoped>\n",
       "    .dataframe tbody tr th:only-of-type {\n",
       "        vertical-align: middle;\n",
       "    }\n",
       "\n",
       "    .dataframe tbody tr th {\n",
       "        vertical-align: top;\n",
       "    }\n",
       "\n",
       "    .dataframe thead th {\n",
       "        text-align: right;\n",
       "    }\n",
       "</style>\n",
       "<table border=\"1\" class=\"dataframe\">\n",
       "  <thead>\n",
       "    <tr style=\"text-align: right;\">\n",
       "      <th></th>\n",
       "      <th>item_id</th>\n",
       "      <th>item_name</th>\n",
       "      <th>playtime_forever</th>\n",
       "      <th>playtime_2weeks</th>\n",
       "      <th>steam_id</th>\n",
       "      <th>items_count</th>\n",
       "      <th>user_id</th>\n",
       "      <th>user_url</th>\n",
       "    </tr>\n",
       "  </thead>\n",
       "  <tbody>\n",
       "    <tr>\n",
       "      <th>0</th>\n",
       "      <td>10</td>\n",
       "      <td>Counter-strike</td>\n",
       "      <td>6</td>\n",
       "      <td>0</td>\n",
       "      <td>76561197970982479</td>\n",
       "      <td>277</td>\n",
       "      <td>76561197970982479</td>\n",
       "      <td>http://steamcommunity.com/profiles/76561197970...</td>\n",
       "    </tr>\n",
       "    <tr>\n",
       "      <th>1</th>\n",
       "      <td>20</td>\n",
       "      <td>Team fortress classic</td>\n",
       "      <td>0</td>\n",
       "      <td>0</td>\n",
       "      <td>76561197970982479</td>\n",
       "      <td>277</td>\n",
       "      <td>76561197970982479</td>\n",
       "      <td>http://steamcommunity.com/profiles/76561197970...</td>\n",
       "    </tr>\n",
       "  </tbody>\n",
       "</table>\n",
       "</div>"
      ],
      "text/plain": [
       "   item_id              item_name  playtime_forever  playtime_2weeks  \\\n",
       "0       10         Counter-strike                 6                0   \n",
       "1       20  Team fortress classic                 0                0   \n",
       "\n",
       "            steam_id  items_count            user_id  \\\n",
       "0  76561197970982479          277  76561197970982479   \n",
       "1  76561197970982479          277  76561197970982479   \n",
       "\n",
       "                                            user_url  \n",
       "0  http://steamcommunity.com/profiles/76561197970...  \n",
       "1  http://steamcommunity.com/profiles/76561197970...  "
      ]
     },
     "execution_count": 3,
     "metadata": {},
     "output_type": "execute_result"
    }
   ],
   "source": [
    "items = pd.read_parquet('ETLitems.parquet')\n",
    "items.head(2)"
   ]
  },
  {
   "cell_type": "markdown",
   "metadata": {},
   "source": [
    "ELIMINO COLUMNAS INNECESARIAS PARA EL PROYECTO COMO PLAYTIME_2WEEKS, ITEMS_COUNT, STEAM_ID, USER_ID, USER_URL"
   ]
  },
  {
   "cell_type": "code",
   "execution_count": 27,
   "metadata": {},
   "outputs": [],
   "source": [
    "items.drop(columns=['playtime_2weeks'], inplace=True)\n",
    "items.drop(columns=['items_count'], inplace=True)\n",
    "items.drop(columns=['steam_id'], inplace=True)\n",
    "items.drop(columns=['user_id'], inplace=True)\n",
    "items.drop(columns=['user_url'], inplace=True)"
   ]
  },
  {
   "cell_type": "code",
   "execution_count": 28,
   "metadata": {},
   "outputs": [
    {
     "data": {
      "text/html": [
       "<div>\n",
       "<style scoped>\n",
       "    .dataframe tbody tr th:only-of-type {\n",
       "        vertical-align: middle;\n",
       "    }\n",
       "\n",
       "    .dataframe tbody tr th {\n",
       "        vertical-align: top;\n",
       "    }\n",
       "\n",
       "    .dataframe thead th {\n",
       "        text-align: right;\n",
       "    }\n",
       "</style>\n",
       "<table border=\"1\" class=\"dataframe\">\n",
       "  <thead>\n",
       "    <tr style=\"text-align: right;\">\n",
       "      <th></th>\n",
       "      <th>item_id</th>\n",
       "      <th>item_name</th>\n",
       "      <th>playtime_forever</th>\n",
       "    </tr>\n",
       "  </thead>\n",
       "  <tbody>\n",
       "    <tr>\n",
       "      <th>0</th>\n",
       "      <td>10</td>\n",
       "      <td>Counter-strike</td>\n",
       "      <td>6</td>\n",
       "    </tr>\n",
       "    <tr>\n",
       "      <th>1</th>\n",
       "      <td>20</td>\n",
       "      <td>Team fortress classic</td>\n",
       "      <td>0</td>\n",
       "    </tr>\n",
       "  </tbody>\n",
       "</table>\n",
       "</div>"
      ],
      "text/plain": [
       "   item_id              item_name  playtime_forever\n",
       "0       10         Counter-strike                 6\n",
       "1       20  Team fortress classic                 0"
      ]
     },
     "execution_count": 28,
     "metadata": {},
     "output_type": "execute_result"
    }
   ],
   "source": [
    "items.head(2)"
   ]
  },
  {
   "cell_type": "code",
   "execution_count": 145,
   "metadata": {},
   "outputs": [],
   "source": [
    "items.to_parquet('ETLitems.parquet', engine = 'pyarrow')"
   ]
  },
  {
   "cell_type": "markdown",
   "metadata": {},
   "source": [
    "ANALISIS EXPLORATORIO DE DATOS DATAFRAME GAMES"
   ]
  },
  {
   "cell_type": "code",
   "execution_count": 4,
   "metadata": {},
   "outputs": [
    {
     "data": {
      "text/html": [
       "<div>\n",
       "<style scoped>\n",
       "    .dataframe tbody tr th:only-of-type {\n",
       "        vertical-align: middle;\n",
       "    }\n",
       "\n",
       "    .dataframe tbody tr th {\n",
       "        vertical-align: top;\n",
       "    }\n",
       "\n",
       "    .dataframe thead th {\n",
       "        text-align: right;\n",
       "    }\n",
       "</style>\n",
       "<table border=\"1\" class=\"dataframe\">\n",
       "  <thead>\n",
       "    <tr style=\"text-align: right;\">\n",
       "      <th></th>\n",
       "      <th>genres</th>\n",
       "      <th>publisher</th>\n",
       "      <th>app_name</th>\n",
       "      <th>title</th>\n",
       "      <th>price</th>\n",
       "      <th>item_id</th>\n",
       "      <th>developer</th>\n",
       "      <th>items_count</th>\n",
       "      <th>metascore</th>\n",
       "      <th>free_play</th>\n",
       "      <th>release_year</th>\n",
       "    </tr>\n",
       "  </thead>\n",
       "  <tbody>\n",
       "    <tr>\n",
       "      <th>0</th>\n",
       "      <td>Action</td>\n",
       "      <td>Kotoshiro</td>\n",
       "      <td>Lost summoner kitty</td>\n",
       "      <td>Lost summoner kitty</td>\n",
       "      <td>4.99</td>\n",
       "      <td>761140</td>\n",
       "      <td>Kotoshiro</td>\n",
       "      <td>None</td>\n",
       "      <td>0.0</td>\n",
       "      <td>Sin Dato</td>\n",
       "      <td>2018</td>\n",
       "    </tr>\n",
       "    <tr>\n",
       "      <th>1</th>\n",
       "      <td>Casual</td>\n",
       "      <td>Kotoshiro</td>\n",
       "      <td>Lost summoner kitty</td>\n",
       "      <td>Lost summoner kitty</td>\n",
       "      <td>4.99</td>\n",
       "      <td>761140</td>\n",
       "      <td>Kotoshiro</td>\n",
       "      <td>None</td>\n",
       "      <td>0.0</td>\n",
       "      <td>Sin Dato</td>\n",
       "      <td>2018</td>\n",
       "    </tr>\n",
       "  </tbody>\n",
       "</table>\n",
       "</div>"
      ],
      "text/plain": [
       "   genres  publisher             app_name                title  price  \\\n",
       "0  Action  Kotoshiro  Lost summoner kitty  Lost summoner kitty   4.99   \n",
       "1  Casual  Kotoshiro  Lost summoner kitty  Lost summoner kitty   4.99   \n",
       "\n",
       "   item_id  developer items_count  metascore free_play  release_year  \n",
       "0   761140  Kotoshiro        None        0.0  Sin Dato          2018  \n",
       "1   761140  Kotoshiro        None        0.0  Sin Dato          2018  "
      ]
     },
     "execution_count": 4,
     "metadata": {},
     "output_type": "execute_result"
    }
   ],
   "source": [
    "games = pd.read_parquet('ETLgames.parquet')\n",
    "games.head(2)"
   ]
  },
  {
   "cell_type": "markdown",
   "metadata": {},
   "source": [
    "ELIMINO COLUMNAS INNECESARIAS PARA EL PROYECTO COMO PUBLISHER, APP_NAME, ITEMS_COUNT, METASCORE, FREE_PLAY"
   ]
  },
  {
   "cell_type": "code",
   "execution_count": 33,
   "metadata": {},
   "outputs": [],
   "source": [
    "games.drop(columns=['publisher'], inplace=True)\n",
    "games.drop(columns=['app_name'], inplace=True)\n",
    "games.drop(columns=['items_count'], inplace=True)\n",
    "games.drop(columns=['metascore'], inplace=True)\n",
    "games.drop(columns=['free_play'], inplace=True)"
   ]
  },
  {
   "cell_type": "code",
   "execution_count": 34,
   "metadata": {},
   "outputs": [
    {
     "data": {
      "text/html": [
       "<div>\n",
       "<style scoped>\n",
       "    .dataframe tbody tr th:only-of-type {\n",
       "        vertical-align: middle;\n",
       "    }\n",
       "\n",
       "    .dataframe tbody tr th {\n",
       "        vertical-align: top;\n",
       "    }\n",
       "\n",
       "    .dataframe thead th {\n",
       "        text-align: right;\n",
       "    }\n",
       "</style>\n",
       "<table border=\"1\" class=\"dataframe\">\n",
       "  <thead>\n",
       "    <tr style=\"text-align: right;\">\n",
       "      <th></th>\n",
       "      <th>genres</th>\n",
       "      <th>title</th>\n",
       "      <th>price</th>\n",
       "      <th>item_id</th>\n",
       "      <th>developer</th>\n",
       "      <th>release_year</th>\n",
       "    </tr>\n",
       "  </thead>\n",
       "  <tbody>\n",
       "    <tr>\n",
       "      <th>70701</th>\n",
       "      <td>Casual</td>\n",
       "      <td>Exit 2 - directions</td>\n",
       "      <td>4.99</td>\n",
       "      <td>658870</td>\n",
       "      <td>Xropi,stev3ns</td>\n",
       "      <td>2017</td>\n",
       "    </tr>\n",
       "    <tr>\n",
       "      <th>70702</th>\n",
       "      <td>Indie</td>\n",
       "      <td>Exit 2 - directions</td>\n",
       "      <td>4.99</td>\n",
       "      <td>658870</td>\n",
       "      <td>Xropi,stev3ns</td>\n",
       "      <td>2017</td>\n",
       "    </tr>\n",
       "  </tbody>\n",
       "</table>\n",
       "</div>"
      ],
      "text/plain": [
       "       genres                title  price  item_id      developer  \\\n",
       "70701  Casual  Exit 2 - directions   4.99   658870  Xropi,stev3ns   \n",
       "70702   Indie  Exit 2 - directions   4.99   658870  Xropi,stev3ns   \n",
       "\n",
       "       release_year  \n",
       "70701          2017  \n",
       "70702          2017  "
      ]
     },
     "execution_count": 34,
     "metadata": {},
     "output_type": "execute_result"
    }
   ],
   "source": [
    "games.tail(2)"
   ]
  },
  {
   "cell_type": "code",
   "execution_count": 35,
   "metadata": {},
   "outputs": [],
   "source": [
    "games.to_parquet('ETLgames.parquet', engine = 'pyarrow')"
   ]
  },
  {
   "cell_type": "code",
   "execution_count": 117,
   "metadata": {},
   "outputs": [
    {
     "name": "stdout",
     "output_type": "stream",
     "text": [
      "<class 'pandas.core.frame.DataFrame'>\n",
      "RangeIndex: 70703 entries, 0 to 70702\n",
      "Data columns (total 6 columns):\n",
      " #   Column        Non-Null Count  Dtype  \n",
      "---  ------        --------------  -----  \n",
      " 0   genres        70703 non-null  object \n",
      " 1   title         70703 non-null  object \n",
      " 2   price         70703 non-null  float64\n",
      " 3   item_id       70703 non-null  int64  \n",
      " 4   developer     70703 non-null  object \n",
      " 5   release_year  70703 non-null  Int64  \n",
      "dtypes: Int64(1), float64(1), int64(1), object(3)\n",
      "memory usage: 3.3+ MB\n"
     ]
    }
   ],
   "source": [
    "games.info()"
   ]
  },
  {
   "cell_type": "markdown",
   "metadata": {},
   "source": [
    "DESEO TENER EN UN SOLO DATAFRAME LAS HORAS TOTALES DE JUEGO Y PARA TAL FIN AGRUPO POR ITEM_ID Y SUMO PLAYTIME_FOREVER DEL DATAFRAME ITEMS PARA LOGRAR ESE FIN"
   ]
  },
  {
   "cell_type": "code",
   "execution_count": 207,
   "metadata": {},
   "outputs": [],
   "source": [
    "games_reviews = pd.merge(games, reviews, on='item_id', how='inner')"
   ]
  },
  {
   "cell_type": "code",
   "execution_count": 204,
   "metadata": {},
   "outputs": [],
   "source": [
    "resultados = items.groupby('item_id')['playtime_forever'].sum().reset_index()\n",
    "games_reviews_items = pd.merge(games_reviews, resultados, on='item_id', how='inner')"
   ]
  },
  {
   "cell_type": "code",
   "execution_count": 205,
   "metadata": {},
   "outputs": [
    {
     "name": "stdout",
     "output_type": "stream",
     "text": [
      "<class 'pandas.core.frame.DataFrame'>\n",
      "RangeIndex: 113963 entries, 0 to 113962\n",
      "Data columns (total 11 columns):\n",
      " #   Column              Non-Null Count   Dtype  \n",
      "---  ------              --------------   -----  \n",
      " 0   genres              113963 non-null  object \n",
      " 1   title               113963 non-null  object \n",
      " 2   price               113963 non-null  float64\n",
      " 3   item_id             113963 non-null  object \n",
      " 4   developer           113963 non-null  object \n",
      " 5   release_year        113963 non-null  Int64  \n",
      " 6   recommend           113963 non-null  bool   \n",
      " 7   user_id             113963 non-null  object \n",
      " 8   sentiment_analysis  113963 non-null  int64  \n",
      " 9   posted_year         113963 non-null  int64  \n",
      " 10  playtime_forever    113963 non-null  int64  \n",
      "dtypes: Int64(1), bool(1), float64(1), int64(3), object(5)\n",
      "memory usage: 8.9+ MB\n"
     ]
    }
   ],
   "source": [
    "games_reviews_items.info()"
   ]
  },
  {
   "cell_type": "code",
   "execution_count": 202,
   "metadata": {},
   "outputs": [
    {
     "data": {
      "text/plain": [
       "genres                0\n",
       "title                 0\n",
       "price                 0\n",
       "item_id               0\n",
       "developer             0\n",
       "release_year          0\n",
       "recommend             0\n",
       "user_id               0\n",
       "sentiment_analysis    0\n",
       "posted_year           0\n",
       "playtime_forever      0\n",
       "dtype: int64"
      ]
     },
     "execution_count": 202,
     "metadata": {},
     "output_type": "execute_result"
    }
   ],
   "source": [
    "games_reviews_items.isnull().sum()"
   ]
  },
  {
   "cell_type": "code",
   "execution_count": 192,
   "metadata": {},
   "outputs": [
    {
     "data": {
      "text/html": [
       "<div>\n",
       "<style scoped>\n",
       "    .dataframe tbody tr th:only-of-type {\n",
       "        vertical-align: middle;\n",
       "    }\n",
       "\n",
       "    .dataframe tbody tr th {\n",
       "        vertical-align: top;\n",
       "    }\n",
       "\n",
       "    .dataframe thead th {\n",
       "        text-align: right;\n",
       "    }\n",
       "</style>\n",
       "<table border=\"1\" class=\"dataframe\">\n",
       "  <thead>\n",
       "    <tr style=\"text-align: right;\">\n",
       "      <th></th>\n",
       "      <th>genres</th>\n",
       "      <th>title</th>\n",
       "      <th>price</th>\n",
       "      <th>item_id</th>\n",
       "      <th>developer</th>\n",
       "      <th>release_year</th>\n",
       "      <th>recommend</th>\n",
       "      <th>user_id</th>\n",
       "      <th>sentiment_analysis</th>\n",
       "      <th>posted_year</th>\n",
       "      <th>playtime_forever</th>\n",
       "    </tr>\n",
       "  </thead>\n",
       "  <tbody>\n",
       "    <tr>\n",
       "      <th>0</th>\n",
       "      <td>Action</td>\n",
       "      <td>Counter-strike</td>\n",
       "      <td>9.99</td>\n",
       "      <td>10</td>\n",
       "      <td>Valve</td>\n",
       "      <td>2000</td>\n",
       "      <td>True</td>\n",
       "      <td>mixadance</td>\n",
       "      <td>2</td>\n",
       "      <td>2012</td>\n",
       "      <td>7487362</td>\n",
       "    </tr>\n",
       "    <tr>\n",
       "      <th>1</th>\n",
       "      <td>Action</td>\n",
       "      <td>Counter-strike</td>\n",
       "      <td>9.99</td>\n",
       "      <td>10</td>\n",
       "      <td>Valve</td>\n",
       "      <td>2000</td>\n",
       "      <td>True</td>\n",
       "      <td>cumme</td>\n",
       "      <td>1</td>\n",
       "      <td>2015</td>\n",
       "      <td>7487362</td>\n",
       "    </tr>\n",
       "  </tbody>\n",
       "</table>\n",
       "</div>"
      ],
      "text/plain": [
       "   genres           title  price item_id developer  release_year  recommend  \\\n",
       "0  Action  Counter-strike   9.99      10     Valve          2000       True   \n",
       "1  Action  Counter-strike   9.99      10     Valve          2000       True   \n",
       "\n",
       "     user_id  sentiment_analysis  posted_year  playtime_forever  \n",
       "0  mixadance                   2         2012           7487362  \n",
       "1      cumme                   1         2015           7487362  "
      ]
     },
     "execution_count": 192,
     "metadata": {},
     "output_type": "execute_result"
    }
   ],
   "source": [
    "games_reviews_items.head(2)"
   ]
  },
  {
   "cell_type": "code",
   "execution_count": 193,
   "metadata": {},
   "outputs": [
    {
     "data": {
      "text/html": [
       "<div>\n",
       "<style scoped>\n",
       "    .dataframe tbody tr th:only-of-type {\n",
       "        vertical-align: middle;\n",
       "    }\n",
       "\n",
       "    .dataframe tbody tr th {\n",
       "        vertical-align: top;\n",
       "    }\n",
       "\n",
       "    .dataframe thead th {\n",
       "        text-align: right;\n",
       "    }\n",
       "</style>\n",
       "<table border=\"1\" class=\"dataframe\">\n",
       "  <thead>\n",
       "    <tr style=\"text-align: right;\">\n",
       "      <th></th>\n",
       "      <th>genres</th>\n",
       "      <th>title</th>\n",
       "      <th>price</th>\n",
       "      <th>item_id</th>\n",
       "      <th>developer</th>\n",
       "      <th>release_year</th>\n",
       "      <th>recommend</th>\n",
       "      <th>user_id</th>\n",
       "      <th>sentiment_analysis</th>\n",
       "      <th>posted_year</th>\n",
       "      <th>playtime_forever</th>\n",
       "    </tr>\n",
       "  </thead>\n",
       "  <tbody>\n",
       "    <tr>\n",
       "      <th>113961</th>\n",
       "      <td>Free to play</td>\n",
       "      <td>Puzzle pirates</td>\n",
       "      <td>0.0</td>\n",
       "      <td>99910</td>\n",
       "      <td>Three rings</td>\n",
       "      <td>2011</td>\n",
       "      <td>True</td>\n",
       "      <td>WhenWeWereYoungggg</td>\n",
       "      <td>2</td>\n",
       "      <td>2012</td>\n",
       "      <td>360674</td>\n",
       "    </tr>\n",
       "    <tr>\n",
       "      <th>113962</th>\n",
       "      <td>Strategy</td>\n",
       "      <td>Puzzle pirates</td>\n",
       "      <td>0.0</td>\n",
       "      <td>99910</td>\n",
       "      <td>Three rings</td>\n",
       "      <td>2011</td>\n",
       "      <td>True</td>\n",
       "      <td>Jezza453</td>\n",
       "      <td>0</td>\n",
       "      <td>2015</td>\n",
       "      <td>360674</td>\n",
       "    </tr>\n",
       "  </tbody>\n",
       "</table>\n",
       "</div>"
      ],
      "text/plain": [
       "              genres           title  price item_id    developer  \\\n",
       "113961  Free to play  Puzzle pirates    0.0   99910  Three rings   \n",
       "113962      Strategy  Puzzle pirates    0.0   99910  Three rings   \n",
       "\n",
       "        release_year  recommend             user_id  sentiment_analysis  \\\n",
       "113961          2011       True  WhenWeWereYoungggg                   2   \n",
       "113962          2011       True            Jezza453                   0   \n",
       "\n",
       "        posted_year  playtime_forever  \n",
       "113961         2012            360674  \n",
       "113962         2015            360674  "
      ]
     },
     "execution_count": 193,
     "metadata": {},
     "output_type": "execute_result"
    }
   ],
   "source": [
    "games_reviews_items.tail(2)"
   ]
  },
  {
   "cell_type": "code",
   "execution_count": 203,
   "metadata": {},
   "outputs": [],
   "source": [
    "games_reviews_items.to_parquet('games_reviews_items.parquet', engine = 'pyarrow')"
   ]
  },
  {
   "cell_type": "markdown",
   "metadata": {},
   "source": [
    "ANALISIS EXPLORATORIO DE DATOS ESTADISTICA DESCRIPTIVA"
   ]
  },
  {
   "cell_type": "code",
   "execution_count": 195,
   "metadata": {},
   "outputs": [
    {
     "data": {
      "text/plain": [
       "(113963, 11)"
      ]
     },
     "execution_count": 195,
     "metadata": {},
     "output_type": "execute_result"
    }
   ],
   "source": [
    "games_reviews_items.shape"
   ]
  },
  {
   "cell_type": "code",
   "execution_count": 197,
   "metadata": {},
   "outputs": [
    {
     "data": {
      "text/html": [
       "<div>\n",
       "<style scoped>\n",
       "    .dataframe tbody tr th:only-of-type {\n",
       "        vertical-align: middle;\n",
       "    }\n",
       "\n",
       "    .dataframe tbody tr th {\n",
       "        vertical-align: top;\n",
       "    }\n",
       "\n",
       "    .dataframe thead th {\n",
       "        text-align: right;\n",
       "    }\n",
       "</style>\n",
       "<table border=\"1\" class=\"dataframe\">\n",
       "  <thead>\n",
       "    <tr style=\"text-align: right;\">\n",
       "      <th></th>\n",
       "      <th>price</th>\n",
       "      <th>release_year</th>\n",
       "      <th>sentiment_analysis</th>\n",
       "      <th>posted_year</th>\n",
       "      <th>playtime_forever</th>\n",
       "    </tr>\n",
       "  </thead>\n",
       "  <tbody>\n",
       "    <tr>\n",
       "      <th>count</th>\n",
       "      <td>113963.000000</td>\n",
       "      <td>113963.0</td>\n",
       "      <td>113963.000000</td>\n",
       "      <td>113963.000000</td>\n",
       "      <td>1.139630e+05</td>\n",
       "    </tr>\n",
       "    <tr>\n",
       "      <th>mean</th>\n",
       "      <td>13.359014</td>\n",
       "      <td>2013.073936</td>\n",
       "      <td>1.339803</td>\n",
       "      <td>1644.352772</td>\n",
       "      <td>3.221878e+07</td>\n",
       "    </tr>\n",
       "    <tr>\n",
       "      <th>std</th>\n",
       "      <td>14.686912</td>\n",
       "      <td>2.852285</td>\n",
       "      <td>0.822106</td>\n",
       "      <td>779.875094</td>\n",
       "      <td>6.408265e+07</td>\n",
       "    </tr>\n",
       "    <tr>\n",
       "      <th>min</th>\n",
       "      <td>0.000000</td>\n",
       "      <td>1989.0</td>\n",
       "      <td>0.000000</td>\n",
       "      <td>0.000000</td>\n",
       "      <td>0.000000e+00</td>\n",
       "    </tr>\n",
       "    <tr>\n",
       "      <th>25%</th>\n",
       "      <td>0.000000</td>\n",
       "      <td>2012.0</td>\n",
       "      <td>1.000000</td>\n",
       "      <td>2013.000000</td>\n",
       "      <td>9.056700e+05</td>\n",
       "    </tr>\n",
       "    <tr>\n",
       "      <th>50%</th>\n",
       "      <td>9.990000</td>\n",
       "      <td>2013.0</td>\n",
       "      <td>2.000000</td>\n",
       "      <td>2014.000000</td>\n",
       "      <td>6.213503e+06</td>\n",
       "    </tr>\n",
       "    <tr>\n",
       "      <th>75%</th>\n",
       "      <td>19.990000</td>\n",
       "      <td>2015.0</td>\n",
       "      <td>2.000000</td>\n",
       "      <td>2015.000000</td>\n",
       "      <td>3.000027e+07</td>\n",
       "    </tr>\n",
       "    <tr>\n",
       "      <th>max</th>\n",
       "      <td>771.710000</td>\n",
       "      <td>2017.0</td>\n",
       "      <td>2.000000</td>\n",
       "      <td>2015.000000</td>\n",
       "      <td>2.937570e+08</td>\n",
       "    </tr>\n",
       "  </tbody>\n",
       "</table>\n",
       "</div>"
      ],
      "text/plain": [
       "               price  release_year  sentiment_analysis    posted_year  \\\n",
       "count  113963.000000      113963.0       113963.000000  113963.000000   \n",
       "mean       13.359014   2013.073936            1.339803    1644.352772   \n",
       "std        14.686912      2.852285            0.822106     779.875094   \n",
       "min         0.000000        1989.0            0.000000       0.000000   \n",
       "25%         0.000000        2012.0            1.000000    2013.000000   \n",
       "50%         9.990000        2013.0            2.000000    2014.000000   \n",
       "75%        19.990000        2015.0            2.000000    2015.000000   \n",
       "max       771.710000        2017.0            2.000000    2015.000000   \n",
       "\n",
       "       playtime_forever  \n",
       "count      1.139630e+05  \n",
       "mean       3.221878e+07  \n",
       "std        6.408265e+07  \n",
       "min        0.000000e+00  \n",
       "25%        9.056700e+05  \n",
       "50%        6.213503e+06  \n",
       "75%        3.000027e+07  \n",
       "max        2.937570e+08  "
      ]
     },
     "execution_count": 197,
     "metadata": {},
     "output_type": "execute_result"
    }
   ],
   "source": [
    "games_reviews_items.describe()"
   ]
  },
  {
   "cell_type": "markdown",
   "metadata": {},
   "source": [
    "LOS AÑOS DE LA COLUMNA POSTED_YEAR QUE APARECEN COMO CERO SON AQUELLOS CAMPOS SIN DATO"
   ]
  },
  {
   "cell_type": "markdown",
   "metadata": {},
   "source": [
    "ENTENDIENDO LA DISTRIBUCION DE LOS VALORES DE LA COLUMNA DE SENTIMENT_ANALYSIS EN TERMINOS DE PORCENTAJE"
   ]
  },
  {
   "cell_type": "code",
   "execution_count": 208,
   "metadata": {},
   "outputs": [
    {
     "name": "stdout",
     "output_type": "stream",
     "text": [
      "Porcentaje de calificación 0: 22.575748269175083%\n",
      "Porcentaje de calificación 1: 20.8681765134298%\n",
      "Porcentaje de calificación 2: 56.55607521739512%\n"
     ]
    }
   ],
   "source": [
    "counts = games_reviews_items['sentiment_analysis'].value_counts()\n",
    "total_records = len(games_reviews_items)\n",
    "porcentaje_0 = (counts.get(0, 0) / total_records) * 100  # Porcentaje de calificación 0\n",
    "porcentaje_1 = (counts.get(1, 0) / total_records) * 100  # Porcentaje de calificación 1\n",
    "porcentaje_2 = (counts.get(2, 0) / total_records) * 100  # Porcentaje de calificación 2\n",
    "print(f'Porcentaje de calificación 0: {porcentaje_0}%')\n",
    "print(f'Porcentaje de calificación 1: {porcentaje_1}%')\n",
    "print(f'Porcentaje de calificación 2: {porcentaje_2}%')"
   ]
  },
  {
   "cell_type": "markdown",
   "metadata": {},
   "source": [
    "LA MAYOR CANTIDAD DE COMENTARIOS SON POSITIVOS HACIA LOS JUEGOS"
   ]
  },
  {
   "cell_type": "code",
   "execution_count": 206,
   "metadata": {},
   "outputs": [
    {
     "name": "stdout",
     "output_type": "stream",
     "text": [
      "Año 2013: 21425 titulos publicados\n",
      "Año 2015: 17997 titulos publicados\n",
      "Año 2014: 17043 titulos publicados\n",
      "Año 2012: 16533 titulos publicados\n",
      "Año 2017: 10028 titulos publicados\n"
     ]
    }
   ],
   "source": [
    "counts = games_reviews_items['release_year'].value_counts().head(5)\n",
    "for year, count in counts.items():\n",
    "    print(f'Año {year}: {count} titulos publicados')"
   ]
  },
  {
   "cell_type": "markdown",
   "metadata": {},
   "source": [
    "EL AÑO 2013 ES EL DE MAYOR NUMERO DE TITULOS PUBLICADOS"
   ]
  },
  {
   "cell_type": "code",
   "execution_count": 200,
   "metadata": {},
   "outputs": [
    {
     "name": "stdout",
     "output_type": "stream",
     "text": [
      "Recomendación tipo True: 100005 en total (87.75% de las recomendaciones)\n",
      "Recomendación tipo False: 13958 en total (12.25% de las recomendaciones)\n"
     ]
    }
   ],
   "source": [
    "counts = games_reviews_items['recommend'].value_counts()\n",
    "total_recommendations = len(games_reviews_items['recommend'])\n",
    "for reco, count in counts.items():\n",
    "    porcentaje = (count / total_recommendations) * 100\n",
    "    print(f'Recomendación tipo {reco}: {count} en total ({porcentaje:.2f}% de las recomendaciones)')"
   ]
  },
  {
   "cell_type": "markdown",
   "metadata": {},
   "source": [
    "LA GRAN MAYORIA DE USUARIOS APORTAN RECOMENDACIONES"
   ]
  },
  {
   "cell_type": "markdown",
   "metadata": {},
   "source": [
    "GRAFICANDO LA COLUMNA GENRES"
   ]
  },
  {
   "cell_type": "code",
   "execution_count": 222,
   "metadata": {},
   "outputs": [
    {
     "data": {
      "image/png": "[encoded data removed]",
      "text/plain": [
       "<Figure size 1200x500 with 1 Axes>"
      ]
     },
     "metadata": {},
     "output_type": "display_data"
    }
   ],
   "source": [
    "count_genre = games_reviews_items['genres'].value_counts()\n",
    "plt.figure(figsize=(12, 5))\n",
    "plt.subplot(1, 2, 2)\n",
    "count_genre[:5].plot(kind='bar', color='blue')\n",
    "plt.xlabel('genres') ; plt.ylabel('Cantidad de Juegos') ; plt.title('Top 5 genres')\n",
    "plt.tight_layout()\n",
    "plt.show()"
   ]
  },
  {
   "cell_type": "markdown",
   "metadata": {},
   "source": [
    "LOS DESARROLLADORES MAS IMPORTANTES\n"
   ]
  },
  {
   "cell_type": "code",
   "execution_count": 221,
   "metadata": {},
   "outputs": [
    {
     "data": {
      "image/png": "[encoded data removed]",
      "text/plain": [
       "<Figure size 1200x500 with 1 Axes>"
      ]
     },
     "metadata": {},
     "output_type": "display_data"
    }
   ],
   "source": [
    "count_developer = games_reviews_items['developer'].value_counts()\n",
    "plt.figure(figsize=(12, 5))\n",
    "plt.subplot(1, 2, 2)\n",
    "count_developer[:5].plot(kind='bar', color='green')\n",
    "plt.xlabel('Developer') ; plt.ylabel('Cantidad de Juegos') ; plt.title('Top 5 Developers')\n",
    "plt.tight_layout()\n",
    "plt.show()"
   ]
  },
  {
   "cell_type": "markdown",
   "metadata": {},
   "source": [
    "LOS TITULOS CON MAS PRESENCIA EN EL CONJUNTO DE DATOS"
   ]
  },
  {
   "cell_type": "code",
   "execution_count": 217,
   "metadata": {},
   "outputs": [
    {
     "data": {
      "image/png": "[encoded data removed]",
      "text/plain": [
       "<Figure size 1200x500 with 1 Axes>"
      ]
     },
     "metadata": {},
     "output_type": "display_data"
    }
   ],
   "source": [
    "count_title = games_reviews_items['title'].value_counts()\n",
    "plt.figure(figsize=(12, 5))\n",
    "plt.subplot(1, 2, 2)\n",
    "count_title[:5].plot(kind='bar', color='orange')\n",
    "plt.xlabel('title') ; plt.ylabel('Cantidad de Juegos') ; plt.title('Top 5 title')\n",
    "plt.tight_layout()\n",
    "plt.show()"
   ]
  },
  {
   "cell_type": "code",
   "execution_count": 21,
   "metadata": {},
   "outputs": [
    {
     "data": {
      "text/html": [
       "<div>\n",
       "<style scoped>\n",
       "    .dataframe tbody tr th:only-of-type {\n",
       "        vertical-align: middle;\n",
       "    }\n",
       "\n",
       "    .dataframe tbody tr th {\n",
       "        vertical-align: top;\n",
       "    }\n",
       "\n",
       "    .dataframe thead th {\n",
       "        text-align: right;\n",
       "    }\n",
       "</style>\n",
       "<table border=\"1\" class=\"dataframe\">\n",
       "  <thead>\n",
       "    <tr style=\"text-align: right;\">\n",
       "      <th></th>\n",
       "      <th>genres</th>\n",
       "      <th>title</th>\n",
       "      <th>price</th>\n",
       "      <th>item_id</th>\n",
       "      <th>developer</th>\n",
       "      <th>release_year</th>\n",
       "      <th>recommend</th>\n",
       "      <th>user_id</th>\n",
       "      <th>sentiment_analysis</th>\n",
       "      <th>posted_year</th>\n",
       "      <th>playtime_forever</th>\n",
       "    </tr>\n",
       "  </thead>\n",
       "  <tbody>\n",
       "    <tr>\n",
       "      <th>0</th>\n",
       "      <td>Action</td>\n",
       "      <td>Counter-strike</td>\n",
       "      <td>9.99</td>\n",
       "      <td>10</td>\n",
       "      <td>Valve</td>\n",
       "      <td>2000</td>\n",
       "      <td>True</td>\n",
       "      <td>mixadance</td>\n",
       "      <td>2</td>\n",
       "      <td>2012</td>\n",
       "      <td>7487362</td>\n",
       "    </tr>\n",
       "    <tr>\n",
       "      <th>1</th>\n",
       "      <td>Action</td>\n",
       "      <td>Counter-strike</td>\n",
       "      <td>9.99</td>\n",
       "      <td>10</td>\n",
       "      <td>Valve</td>\n",
       "      <td>2000</td>\n",
       "      <td>True</td>\n",
       "      <td>cumme</td>\n",
       "      <td>1</td>\n",
       "      <td>2015</td>\n",
       "      <td>7487362</td>\n",
       "    </tr>\n",
       "  </tbody>\n",
       "</table>\n",
       "</div>"
      ],
      "text/plain": [
       "   genres           title  price item_id developer  release_year  recommend  \\\n",
       "0  Action  Counter-strike   9.99      10     Valve          2000       True   \n",
       "1  Action  Counter-strike   9.99      10     Valve          2000       True   \n",
       "\n",
       "     user_id  sentiment_analysis  posted_year  playtime_forever  \n",
       "0  mixadance                   2         2012           7487362  \n",
       "1      cumme                   1         2015           7487362  "
      ]
     },
     "execution_count": 21,
     "metadata": {},
     "output_type": "execute_result"
    }
   ],
   "source": [
    "games_reviews_items.head(2)"
   ]
  },
  {
   "cell_type": "code",
   "execution_count": 22,
   "metadata": {},
   "outputs": [
    {
     "name": "stdout",
     "output_type": "stream",
     "text": [
      "<class 'pandas.core.frame.DataFrame'>\n",
      "RangeIndex: 113963 entries, 0 to 113962\n",
      "Data columns (total 11 columns):\n",
      " #   Column              Non-Null Count   Dtype  \n",
      "---  ------              --------------   -----  \n",
      " 0   genres              113963 non-null  object \n",
      " 1   title               113963 non-null  object \n",
      " 2   price               113963 non-null  float64\n",
      " 3   item_id             113963 non-null  object \n",
      " 4   developer           113963 non-null  object \n",
      " 5   release_year        113963 non-null  Int64  \n",
      " 6   recommend           113963 non-null  bool   \n",
      " 7   user_id             113963 non-null  object \n",
      " 8   sentiment_analysis  113963 non-null  int64  \n",
      " 9   posted_year         113963 non-null  int64  \n",
      " 10  playtime_forever    113963 non-null  int64  \n",
      "dtypes: Int64(1), bool(1), float64(1), int64(3), object(5)\n",
      "memory usage: 8.9+ MB\n"
     ]
    }
   ],
   "source": [
    "games_reviews_items.info()"
   ]
  },
  {
   "cell_type": "markdown",
   "metadata": {},
   "source": [
    "LOS USUARIOS QUE MAS JUEGAN"
   ]
  },
  {
   "cell_type": "code",
   "execution_count": 26,
   "metadata": {},
   "outputs": [
    {
     "data": {
      "image/png": "[encoded data removed]",
      "text/plain": [
       "<Figure size 1000x600 with 1 Axes>"
      ]
     },
     "metadata": {},
     "output_type": "display_data"
    }
   ],
   "source": [
    "top_users = games_reviews_items.groupby('user_id')['playtime_forever'].sum().reset_index()\n",
    "top_users = top_users.sort_values(by='playtime_forever', ascending=False).head(5)\n",
    "plt.figure(figsize=(10, 6))\n",
    "plt.bar(top_users['user_id'], top_users['playtime_forever'], color='skyblue')\n",
    "plt.xlabel('Usuario')\n",
    "plt.ylabel('Minutos Jugados')\n",
    "plt.title('Top 5 de Usuarios que Más Juegan')\n",
    "plt.xticks(rotation=45)\n",
    "plt.tight_layout()\n",
    "plt.show()\n"
   ]
  },
  {
   "cell_type": "markdown",
   "metadata": {},
   "source": []
  },
  {
   "cell_type": "code",
   "execution_count": 34,
   "metadata": {},
   "outputs": [
    {
     "data": {
      "image/png": "[encoded data removed]",
      "text/plain": [
       "<Figure size 1200x600 with 2 Axes>"
      ]
     },
     "metadata": {},
     "output_type": "display_data"
    }
   ],
   "source": [
    "title_count = games_reviews_items['title'].value_counts()\n",
    "title_prices = games_reviews_items.groupby('title')['price'].mean()\n",
    "\n",
    "\n",
    "title_data = pd.DataFrame({'Title': title_count.index, 'Count': title_count.values, 'Price': title_prices})\n",
    "\n",
    "\n",
    "title_data = title_data.sort_values(by='Count', ascending=False).head(10)\n",
    "\n",
    "# Graficar\n",
    "plt.figure(figsize=(12, 6))\n",
    "plt.bar(title_data['Title'], title_data['Count'], color='skyblue')\n",
    "plt.xlabel('Título')\n",
    "plt.ylabel('Cantidad de Usuarios con el Juego')\n",
    "plt.title('Conteo de Títulos vs. Precio Promedio')\n",
    "plt.xticks(rotation=90)\n",
    "plt.twinx() \n",
    "plt.plot(title_data['Title'], title_data['Price'], color='red', marker='o', label='Precio Promedio')\n",
    "plt.ylabel('Precio Promedio')\n",
    "plt.legend(loc='upper right')\n",
    "plt.tight_layout()\n",
    "plt.show()\n"
   ]
  }
 ],
 "metadata": {
  "kernelspec": {
   "display_name": "Python 3",
   "language": "python",
   "name": "python3"
  },
  "language_info": {
   "codemirror_mode": {
    "name": "ipython",
    "version": 3
   },
   "file_extension": ".py",
   "mimetype": "text/x-python",
   "name": "python",
   "nbconvert_exporter": "python",
   "pygments_lexer": "ipython3",
   "version": "3.11.5"
  },
  "orig_nbformat": 4
 },
 "nbformat": 4,
 "nbformat_minor": 2
}
