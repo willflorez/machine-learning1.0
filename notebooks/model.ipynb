{
 "cells": [
  {
   "cell_type": "code",
   "execution_count": 1,
   "metadata": {},
   "outputs": [],
   "source": [
    "import pandas as pd\n",
    "from sklearn.feature_extraction.text import CountVectorizer\n",
    "import numpy as np \n",
    "from sklearn.metrics.pairwise import cosine_similarity"
   ]
  },
  {
   "cell_type": "code",
   "execution_count": 86,
   "metadata": {},
   "outputs": [],
   "source": [
    "model = pd.read_parquet('games_reviews_items.parquet')"
   ]
  },
  {
   "cell_type": "code",
   "execution_count": 100,
   "metadata": {},
   "outputs": [],
   "source": [
    "genrestitle = model.groupby('title')['genres'].agg(', '.join).reset_index()"
   ]
  },
  {
   "cell_type": "code",
   "execution_count": 140,
   "metadata": {},
   "outputs": [
    {
     "data": {
      "text/html": [
       "<div>\n",
       "<style scoped>\n",
       "    .dataframe tbody tr th:only-of-type {\n",
       "        vertical-align: middle;\n",
       "    }\n",
       "\n",
       "    .dataframe tbody tr th {\n",
       "        vertical-align: top;\n",
       "    }\n",
       "\n",
       "    .dataframe thead th {\n",
       "        text-align: right;\n",
       "    }\n",
       "</style>\n",
       "<table border=\"1\" class=\"dataframe\">\n",
       "  <thead>\n",
       "    <tr style=\"text-align: right;\">\n",
       "      <th></th>\n",
       "      <th>title</th>\n",
       "      <th>genres</th>\n",
       "    </tr>\n",
       "  </thead>\n",
       "  <tbody>\n",
       "    <tr>\n",
       "      <th>2819</th>\n",
       "      <td>[the sequence]</td>\n",
       "      <td>Indie</td>\n",
       "    </tr>\n",
       "    <tr>\n",
       "      <th>2820</th>\n",
       "      <td>Астролорды: облако оорта</td>\n",
       "      <td>Massively multiplayer, Free to play, Indie, St...</td>\n",
       "    </tr>\n",
       "  </tbody>\n",
       "</table>\n",
       "</div>"
      ],
      "text/plain": [
       "                         title  \\\n",
       "2819            [the sequence]   \n",
       "2820  Астролорды: облако оорта   \n",
       "\n",
       "                                                 genres  \n",
       "2819                                              Indie  \n",
       "2820  Massively multiplayer, Free to play, Indie, St...  "
      ]
     },
     "execution_count": 140,
     "metadata": {},
     "output_type": "execute_result"
    }
   ],
   "source": [
    "genrestitle.tail(2)"
   ]
  },
  {
   "cell_type": "code",
   "execution_count": 115,
   "metadata": {},
   "outputs": [],
   "source": [
    "wf = CountVectorizer(max_features = 8000, stop_words=\"english\")"
   ]
  },
  {
   "cell_type": "code",
   "execution_count": 116,
   "metadata": {},
   "outputs": [
    {
     "data": {
      "text/plain": [
       "(2821, 29)"
      ]
     },
     "execution_count": 116,
     "metadata": {},
     "output_type": "execute_result"
    }
   ],
   "source": [
    "wf.fit_transform(genrestitle[\"genres\"]).toarray().shape"
   ]
  },
  {
   "cell_type": "code",
   "execution_count": 117,
   "metadata": {},
   "outputs": [],
   "source": [
    "vectors = wf.fit_transform(genrestitle[\"genres\"]).toarray()"
   ]
  },
  {
   "cell_type": "code",
   "execution_count": 118,
   "metadata": {},
   "outputs": [
    {
     "data": {
      "text/plain": [
       "array([[0, 1, 1, ..., 0, 0, 0],\n",
       "       [0, 2, 0, ..., 0, 0, 0],\n",
       "       [0, 0, 0, ..., 0, 0, 0],\n",
       "       ...,\n",
       "       [0, 2, 0, ..., 0, 0, 0],\n",
       "       [0, 0, 0, ..., 0, 0, 0],\n",
       "       [0, 0, 0, ..., 0, 0, 0]], dtype=int64)"
      ]
     },
     "execution_count": 118,
     "metadata": {},
     "output_type": "execute_result"
    }
   ],
   "source": [
    "vectors"
   ]
  },
  {
   "cell_type": "code",
   "execution_count": 158,
   "metadata": {},
   "outputs": [],
   "source": [
    "similarity = cosine_similarity(vectors)"
   ]
  },
  {
   "cell_type": "code",
   "execution_count": 159,
   "metadata": {},
   "outputs": [
    {
     "data": {
      "text/plain": [
       "array([1.        , 0.70710678, 0.35355339, ..., 0.70710678, 0.5       ,\n",
       "       0.20412415])"
      ]
     },
     "execution_count": 159,
     "metadata": {},
     "output_type": "execute_result"
    }
   ],
   "source": [
    "similarity[0]"
   ]
  },
  {
   "cell_type": "code",
   "execution_count": 160,
   "metadata": {},
   "outputs": [
    {
     "data": {
      "text/plain": [
       "[(142, 1.0), (225, 1.0), (239, 1.0), (300, 1.0), (329, 1.0)]"
      ]
     },
     "execution_count": 160,
     "metadata": {},
     "output_type": "execute_result"
    }
   ],
   "source": [
    "sorted(list(enumerate(similarity[0])), reverse=True, key=lambda x:x[1])[1:6]"
   ]
  },
  {
   "cell_type": "markdown",
   "metadata": {},
   "source": [
    "FUNCION MODELO CON EL DATAFRAME AL QUE SE LE APLICO LA SIMILITUD DEL COSENO"
   ]
  },
  {
   "cell_type": "code",
   "execution_count": 173,
   "metadata": {},
   "outputs": [],
   "source": [
    "def obtener_recomendaciones(game, genrestitle, similarity, n=5):\n",
    "    \n",
    "    if game not in genrestitle['title'].values:\n",
    "        return []  # Retorna una lista vacía si el juego no se encuentra\n",
    "    \n",
    "    \n",
    "    indice_juego = genrestitle[genrestitle[\"title\"] == game].index[0]\n",
    "    distances = similarity[indice_juego]   \n",
    "    top_indices = sorted(range(len(distances)), key=lambda i: distances[i], reverse=True)[1:n+1]  \n",
    "    recommended_titles = [genrestitle.iloc[i]['title'] for i in top_indices]\n",
    "    \n",
    "    return recommended_titles\n"
   ]
  },
  {
   "cell_type": "code",
   "execution_count": 174,
   "metadata": {},
   "outputs": [
    {
     "data": {
      "text/plain": [
       "['Bunker punks', 'Gamma bros 1.5', 'Garbage day', 'Gunjitsu', 'Noct']"
      ]
     },
     "execution_count": 174,
     "metadata": {},
     "output_type": "execute_result"
    }
   ],
   "source": [
    "obtener_recomendaciones(\"Zero g arena\", genrestitle, similarity)"
   ]
  },
  {
   "cell_type": "code",
   "execution_count": 175,
   "metadata": {},
   "outputs": [
    {
     "data": {
      "text/plain": [
       "['Clannad',\n",
       " \"Dark parables: the exiled prince collector's edition\",\n",
       " 'Enigmatis 2: the mists of ravenwood',\n",
       " 'Freddi fish 3: the case of the stolen conch shell',\n",
       " 'Freddi fish 5: the case of the creature of coral cove']"
      ]
     },
     "execution_count": 175,
     "metadata": {},
     "output_type": "execute_result"
    }
   ],
   "source": [
    "obtener_recomendaciones(\"Zoombinis\", genrestitle, similarity)"
   ]
  },
  {
   "cell_type": "code",
   "execution_count": 176,
   "metadata": {},
   "outputs": [
    {
     "data": {
      "text/plain": [
       "['Faeria',\n",
       " 'Infinity wars: animated trading card game',\n",
       " 'Saga',\n",
       " 'Spellweaver',\n",
       " 'Астролорды: облако оорта']"
      ]
     },
     "execution_count": 176,
     "metadata": {},
     "output_type": "execute_result"
    }
   ],
   "source": [
    "obtener_recomendaciones(\"Астролорды: облако оорта\", genrestitle, similarity)"
   ]
  },
  {
   "cell_type": "code",
   "execution_count": 177,
   "metadata": {},
   "outputs": [
    {
     "data": {
      "text/plain": [
       "['Euro truck simulator 2',\n",
       " \"Five nights at freddy's\",\n",
       " \"Garry's mod\",\n",
       " 'Hacknet',\n",
       " 'Huniecam studio']"
      ]
     },
     "execution_count": 177,
     "metadata": {},
     "output_type": "execute_result"
    }
   ],
   "source": [
    "obtener_recomendaciones(\"0rbitalis\", genrestitle, similarity)"
   ]
  },
  {
   "cell_type": "code",
   "execution_count": 178,
   "metadata": {},
   "outputs": [
    {
     "data": {
      "text/plain": [
       "['Starbound',\n",
       " 'Castle crashers®',\n",
       " 'Forward to the sky',\n",
       " 'Tap heroes',\n",
       " 'Time ramesside (a new reckoning)']"
      ]
     },
     "execution_count": 178,
     "metadata": {},
     "output_type": "execute_result"
    }
   ],
   "source": [
    "obtener_recomendaciones(\"10,000,000\", genrestitle, similarity)"
   ]
  },
  {
   "cell_type": "code",
   "execution_count": 179,
   "metadata": {},
   "outputs": [
    {
     "data": {
      "text/plain": [
       "[]"
      ]
     },
     "execution_count": 179,
     "metadata": {},
     "output_type": "execute_result"
    }
   ],
   "source": [
    "obtener_recomendaciones(\"10,0\", genrestitle, similarity)"
   ]
  },
  {
   "cell_type": "markdown",
   "metadata": {},
   "source": [
    "GENERO LA COLUMNA RECOMMENDED PARA ANEXARLA AL DATAFRAME CON LA INTENCION DE ELIMINAR POSTERIORMENTE TODAS LAS COLUMNAS Y QUEDARME CON UN DATAFRAME RESULTADO QUE CONTENGA ITEM_ID Y RECOMMENDED"
   ]
  },
  {
   "cell_type": "code",
   "execution_count": 211,
   "metadata": {},
   "outputs": [],
   "source": [
    "def obtener_recomendaciones_para_fila(row):\n",
    "    return obtener_recomendaciones(row['title'], genrestitle, similarity)\n",
    "\n",
    "genrestitle['recommended'] = genrestitle.apply(obtener_recomendaciones_para_fila, axis=1)"
   ]
  },
  {
   "cell_type": "code",
   "execution_count": 212,
   "metadata": {},
   "outputs": [
    {
     "data": {
      "text/html": [
       "<div>\n",
       "<style scoped>\n",
       "    .dataframe tbody tr th:only-of-type {\n",
       "        vertical-align: middle;\n",
       "    }\n",
       "\n",
       "    .dataframe tbody tr th {\n",
       "        vertical-align: top;\n",
       "    }\n",
       "\n",
       "    .dataframe thead th {\n",
       "        text-align: right;\n",
       "    }\n",
       "</style>\n",
       "<table border=\"1\" class=\"dataframe\">\n",
       "  <thead>\n",
       "    <tr style=\"text-align: right;\">\n",
       "      <th></th>\n",
       "      <th>title</th>\n",
       "      <th>genres</th>\n",
       "      <th>recommended</th>\n",
       "    </tr>\n",
       "  </thead>\n",
       "  <tbody>\n",
       "    <tr>\n",
       "      <th>0</th>\n",
       "      <td>! that bastard is trying to steal our gold !</td>\n",
       "      <td>Action, Adventure, Casual, Indie</td>\n",
       "      <td>[Aperture tag: the paint gun testing initiativ...</td>\n",
       "    </tr>\n",
       "    <tr>\n",
       "      <th>1</th>\n",
       "      <td>//n.p.p.d. rush//- the milk of ultraviolet</td>\n",
       "      <td>Action, Action, Indie, Indie</td>\n",
       "      <td>[404sight, And yet it moves, Assault android c...</td>\n",
       "    </tr>\n",
       "    <tr>\n",
       "      <th>2</th>\n",
       "      <td>0rbitalis</td>\n",
       "      <td>Simulation, Indie</td>\n",
       "      <td>[Euro truck simulator 2, Five nights at freddy...</td>\n",
       "    </tr>\n",
       "    <tr>\n",
       "      <th>3</th>\n",
       "      <td>10,000,000</td>\n",
       "      <td>Action, Action, Casual, Casual, Casual, Indie,...</td>\n",
       "      <td>[Starbound, Castle crashers®, Forward to the s...</td>\n",
       "    </tr>\n",
       "    <tr>\n",
       "      <th>4</th>\n",
       "      <td>100% orange juice</td>\n",
       "      <td>Indie, Indie, Strategy, Indie, Indie, Indie, I...</td>\n",
       "      <td>[Ai war: fleet command, Defense grid: the awak...</td>\n",
       "    </tr>\n",
       "    <tr>\n",
       "      <th>...</th>\n",
       "      <td>...</td>\n",
       "      <td>...</td>\n",
       "      <td>...</td>\n",
       "    </tr>\n",
       "    <tr>\n",
       "      <th>2816</th>\n",
       "      <td>Zombie zoeds</td>\n",
       "      <td>Adventure, Indie, Action, Casual</td>\n",
       "      <td>[Aperture tag: the paint gun testing initiativ...</td>\n",
       "    </tr>\n",
       "    <tr>\n",
       "      <th>2817</th>\n",
       "      <td>Zoombinis</td>\n",
       "      <td>Adventure, Adventure, Adventure, Casual, Casua...</td>\n",
       "      <td>[Clannad, Dark parables: the exiled prince col...</td>\n",
       "    </tr>\n",
       "    <tr>\n",
       "      <th>2818</th>\n",
       "      <td>Zuma's revenge!</td>\n",
       "      <td>Action, Action, Casual, Casual</td>\n",
       "      <td>[Flight control hd, Fury of the gods, Heli her...</td>\n",
       "    </tr>\n",
       "    <tr>\n",
       "      <th>2819</th>\n",
       "      <td>[the sequence]</td>\n",
       "      <td>Indie</td>\n",
       "      <td>[Adventures of shuggy, Analogue: a hate story,...</td>\n",
       "    </tr>\n",
       "    <tr>\n",
       "      <th>2820</th>\n",
       "      <td>Астролорды: облако оорта</td>\n",
       "      <td>Massively multiplayer, Free to play, Indie, St...</td>\n",
       "      <td>[Faeria, Infinity wars: animated trading card ...</td>\n",
       "    </tr>\n",
       "  </tbody>\n",
       "</table>\n",
       "<p>2821 rows × 3 columns</p>\n",
       "</div>"
      ],
      "text/plain": [
       "                                             title  \\\n",
       "0     ! that bastard is trying to steal our gold !   \n",
       "1       //n.p.p.d. rush//- the milk of ultraviolet   \n",
       "2                                        0rbitalis   \n",
       "3                                       10,000,000   \n",
       "4                                100% orange juice   \n",
       "...                                            ...   \n",
       "2816                                  Zombie zoeds   \n",
       "2817                                     Zoombinis   \n",
       "2818                               Zuma's revenge!   \n",
       "2819                                [the sequence]   \n",
       "2820                      Астролорды: облако оорта   \n",
       "\n",
       "                                                 genres  \\\n",
       "0                      Action, Adventure, Casual, Indie   \n",
       "1                          Action, Action, Indie, Indie   \n",
       "2                                     Simulation, Indie   \n",
       "3     Action, Action, Casual, Casual, Casual, Indie,...   \n",
       "4     Indie, Indie, Strategy, Indie, Indie, Indie, I...   \n",
       "...                                                 ...   \n",
       "2816                   Adventure, Indie, Action, Casual   \n",
       "2817  Adventure, Adventure, Adventure, Casual, Casua...   \n",
       "2818                     Action, Action, Casual, Casual   \n",
       "2819                                              Indie   \n",
       "2820  Massively multiplayer, Free to play, Indie, St...   \n",
       "\n",
       "                                            recommended  \n",
       "0     [Aperture tag: the paint gun testing initiativ...  \n",
       "1     [404sight, And yet it moves, Assault android c...  \n",
       "2     [Euro truck simulator 2, Five nights at freddy...  \n",
       "3     [Starbound, Castle crashers®, Forward to the s...  \n",
       "4     [Ai war: fleet command, Defense grid: the awak...  \n",
       "...                                                 ...  \n",
       "2816  [Aperture tag: the paint gun testing initiativ...  \n",
       "2817  [Clannad, Dark parables: the exiled prince col...  \n",
       "2818  [Flight control hd, Fury of the gods, Heli her...  \n",
       "2819  [Adventures of shuggy, Analogue: a hate story,...  \n",
       "2820  [Faeria, Infinity wars: animated trading card ...  \n",
       "\n",
       "[2821 rows x 3 columns]"
      ]
     },
     "execution_count": 212,
     "metadata": {},
     "output_type": "execute_result"
    }
   ],
   "source": [
    "genrestitle"
   ]
  },
  {
   "cell_type": "code",
   "execution_count": 213,
   "metadata": {},
   "outputs": [
    {
     "data": {
      "text/html": [
       "<div>\n",
       "<style scoped>\n",
       "    .dataframe tbody tr th:only-of-type {\n",
       "        vertical-align: middle;\n",
       "    }\n",
       "\n",
       "    .dataframe tbody tr th {\n",
       "        vertical-align: top;\n",
       "    }\n",
       "\n",
       "    .dataframe thead th {\n",
       "        text-align: right;\n",
       "    }\n",
       "</style>\n",
       "<table border=\"1\" class=\"dataframe\">\n",
       "  <thead>\n",
       "    <tr style=\"text-align: right;\">\n",
       "      <th></th>\n",
       "      <th>title</th>\n",
       "      <th>genres</th>\n",
       "      <th>recommended</th>\n",
       "      <th>item_id</th>\n",
       "    </tr>\n",
       "  </thead>\n",
       "  <tbody>\n",
       "    <tr>\n",
       "      <th>0</th>\n",
       "      <td>! that bastard is trying to steal our gold !</td>\n",
       "      <td>Action, Adventure, Casual, Indie</td>\n",
       "      <td>[Aperture tag: the paint gun testing initiativ...</td>\n",
       "      <td>449940</td>\n",
       "    </tr>\n",
       "    <tr>\n",
       "      <th>1</th>\n",
       "      <td>! that bastard is trying to steal our gold !</td>\n",
       "      <td>Action, Adventure, Casual, Indie</td>\n",
       "      <td>[Aperture tag: the paint gun testing initiativ...</td>\n",
       "      <td>449940</td>\n",
       "    </tr>\n",
       "    <tr>\n",
       "      <th>2</th>\n",
       "      <td>! that bastard is trying to steal our gold !</td>\n",
       "      <td>Action, Adventure, Casual, Indie</td>\n",
       "      <td>[Aperture tag: the paint gun testing initiativ...</td>\n",
       "      <td>449940</td>\n",
       "    </tr>\n",
       "    <tr>\n",
       "      <th>3</th>\n",
       "      <td>! that bastard is trying to steal our gold !</td>\n",
       "      <td>Action, Adventure, Casual, Indie</td>\n",
       "      <td>[Aperture tag: the paint gun testing initiativ...</td>\n",
       "      <td>449940</td>\n",
       "    </tr>\n",
       "    <tr>\n",
       "      <th>4</th>\n",
       "      <td>//n.p.p.d. rush//- the milk of ultraviolet</td>\n",
       "      <td>Action, Action, Indie, Indie</td>\n",
       "      <td>[404sight, And yet it moves, Assault android c...</td>\n",
       "      <td>270090</td>\n",
       "    </tr>\n",
       "    <tr>\n",
       "      <th>...</th>\n",
       "      <td>...</td>\n",
       "      <td>...</td>\n",
       "      <td>...</td>\n",
       "      <td>...</td>\n",
       "    </tr>\n",
       "    <tr>\n",
       "      <th>113958</th>\n",
       "      <td>[the sequence]</td>\n",
       "      <td>Indie</td>\n",
       "      <td>[Adventures of shuggy, Analogue: a hate story,...</td>\n",
       "      <td>454320</td>\n",
       "    </tr>\n",
       "    <tr>\n",
       "      <th>113959</th>\n",
       "      <td>Астролорды: облако оорта</td>\n",
       "      <td>Massively multiplayer, Free to play, Indie, St...</td>\n",
       "      <td>[Faeria, Infinity wars: animated trading card ...</td>\n",
       "      <td>385530</td>\n",
       "    </tr>\n",
       "    <tr>\n",
       "      <th>113960</th>\n",
       "      <td>Астролорды: облако оорта</td>\n",
       "      <td>Massively multiplayer, Free to play, Indie, St...</td>\n",
       "      <td>[Faeria, Infinity wars: animated trading card ...</td>\n",
       "      <td>385530</td>\n",
       "    </tr>\n",
       "    <tr>\n",
       "      <th>113961</th>\n",
       "      <td>Астролорды: облако оорта</td>\n",
       "      <td>Massively multiplayer, Free to play, Indie, St...</td>\n",
       "      <td>[Faeria, Infinity wars: animated trading card ...</td>\n",
       "      <td>385530</td>\n",
       "    </tr>\n",
       "    <tr>\n",
       "      <th>113962</th>\n",
       "      <td>Астролорды: облако оорта</td>\n",
       "      <td>Massively multiplayer, Free to play, Indie, St...</td>\n",
       "      <td>[Faeria, Infinity wars: animated trading card ...</td>\n",
       "      <td>385530</td>\n",
       "    </tr>\n",
       "  </tbody>\n",
       "</table>\n",
       "<p>113963 rows × 4 columns</p>\n",
       "</div>"
      ],
      "text/plain": [
       "                                               title  \\\n",
       "0       ! that bastard is trying to steal our gold !   \n",
       "1       ! that bastard is trying to steal our gold !   \n",
       "2       ! that bastard is trying to steal our gold !   \n",
       "3       ! that bastard is trying to steal our gold !   \n",
       "4         //n.p.p.d. rush//- the milk of ultraviolet   \n",
       "...                                              ...   \n",
       "113958                                [the sequence]   \n",
       "113959                      Астролорды: облако оорта   \n",
       "113960                      Астролорды: облако оорта   \n",
       "113961                      Астролорды: облако оорта   \n",
       "113962                      Астролорды: облако оорта   \n",
       "\n",
       "                                                   genres  \\\n",
       "0                        Action, Adventure, Casual, Indie   \n",
       "1                        Action, Adventure, Casual, Indie   \n",
       "2                        Action, Adventure, Casual, Indie   \n",
       "3                        Action, Adventure, Casual, Indie   \n",
       "4                            Action, Action, Indie, Indie   \n",
       "...                                                   ...   \n",
       "113958                                              Indie   \n",
       "113959  Massively multiplayer, Free to play, Indie, St...   \n",
       "113960  Massively multiplayer, Free to play, Indie, St...   \n",
       "113961  Massively multiplayer, Free to play, Indie, St...   \n",
       "113962  Massively multiplayer, Free to play, Indie, St...   \n",
       "\n",
       "                                              recommended item_id  \n",
       "0       [Aperture tag: the paint gun testing initiativ...  449940  \n",
       "1       [Aperture tag: the paint gun testing initiativ...  449940  \n",
       "2       [Aperture tag: the paint gun testing initiativ...  449940  \n",
       "3       [Aperture tag: the paint gun testing initiativ...  449940  \n",
       "4       [404sight, And yet it moves, Assault android c...  270090  \n",
       "...                                                   ...     ...  \n",
       "113958  [Adventures of shuggy, Analogue: a hate story,...  454320  \n",
       "113959  [Faeria, Infinity wars: animated trading card ...  385530  \n",
       "113960  [Faeria, Infinity wars: animated trading card ...  385530  \n",
       "113961  [Faeria, Infinity wars: animated trading card ...  385530  \n",
       "113962  [Faeria, Infinity wars: animated trading card ...  385530  \n",
       "\n",
       "[113963 rows x 4 columns]"
      ]
     },
     "execution_count": 213,
     "metadata": {},
     "output_type": "execute_result"
    }
   ],
   "source": [
    "result = genrestitle.merge(model[['title', 'item_id']], on='title', how='inner')\n",
    "result"
   ]
  },
  {
   "cell_type": "code",
   "execution_count": 214,
   "metadata": {},
   "outputs": [],
   "source": [
    "result = result.drop(['title'], axis=1)\n",
    "result = result.drop(['genres'], axis=1)"
   ]
  },
  {
   "cell_type": "code",
   "execution_count": 243,
   "metadata": {},
   "outputs": [
    {
     "data": {
      "text/html": [
       "<div>\n",
       "<style scoped>\n",
       "    .dataframe tbody tr th:only-of-type {\n",
       "        vertical-align: middle;\n",
       "    }\n",
       "\n",
       "    .dataframe tbody tr th {\n",
       "        vertical-align: top;\n",
       "    }\n",
       "\n",
       "    .dataframe thead th {\n",
       "        text-align: right;\n",
       "    }\n",
       "</style>\n",
       "<table border=\"1\" class=\"dataframe\">\n",
       "  <thead>\n",
       "    <tr style=\"text-align: right;\">\n",
       "      <th></th>\n",
       "      <th>recommended</th>\n",
       "      <th>item_id</th>\n",
       "    </tr>\n",
       "  </thead>\n",
       "  <tbody>\n",
       "    <tr>\n",
       "      <th>113961</th>\n",
       "      <td>[Faeria, Infinity wars: animated trading card ...</td>\n",
       "      <td>385530</td>\n",
       "    </tr>\n",
       "    <tr>\n",
       "      <th>113962</th>\n",
       "      <td>[Faeria, Infinity wars: animated trading card ...</td>\n",
       "      <td>385530</td>\n",
       "    </tr>\n",
       "  </tbody>\n",
       "</table>\n",
       "</div>"
      ],
      "text/plain": [
       "                                              recommended  item_id\n",
       "113961  [Faeria, Infinity wars: animated trading card ...   385530\n",
       "113962  [Faeria, Infinity wars: animated trading card ...   385530"
      ]
     },
     "execution_count": 243,
     "metadata": {},
     "output_type": "execute_result"
    }
   ],
   "source": [
    "result.tail(2)"
   ]
  },
  {
   "cell_type": "code",
   "execution_count": 218,
   "metadata": {},
   "outputs": [],
   "source": [
    "result['item_id'] = result['item_id'].astype('int64')"
   ]
  },
  {
   "cell_type": "code",
   "execution_count": 245,
   "metadata": {},
   "outputs": [],
   "source": [
    "result.to_parquet('result.parquet', engine = 'pyarrow')"
   ]
  },
  {
   "cell_type": "code",
   "execution_count": 244,
   "metadata": {},
   "outputs": [
    {
     "name": "stdout",
     "output_type": "stream",
     "text": [
      "<class 'pandas.core.frame.DataFrame'>\n",
      "RangeIndex: 113963 entries, 0 to 113962\n",
      "Data columns (total 2 columns):\n",
      " #   Column       Non-Null Count   Dtype \n",
      "---  ------       --------------   ----- \n",
      " 0   recommended  113963 non-null  object\n",
      " 1   item_id      113963 non-null  int64 \n",
      "dtypes: int64(1), object(1)\n",
      "memory usage: 1.7+ MB\n"
     ]
    }
   ],
   "source": [
    "result.info()"
   ]
  },
  {
   "cell_type": "markdown",
   "metadata": {},
   "source": [
    "FUNCION QUE FILTRA FILA DE LA COLUMNA ITEM_ID SEGUN EL VALOR QUE SE INGRESE Y TRAE COMO RESULTADO EL VALOR CORRESPONDIENTE DE LA COLUMNA RECOMMENDED"
   ]
  },
  {
   "cell_type": "code",
   "execution_count": 260,
   "metadata": {},
   "outputs": [],
   "source": [
    "def obtener_recomendaciones_por_item_id(item: int):\n",
    "    recomendaciones = result[result['item_id'] == item]['recommended'].iloc[0]\n",
    "    \n",
    "    if len(recomendaciones) > 0:\n",
    "        recomendaciones_dict = {i + 1: juego for i, juego in enumerate(recomendaciones)}\n",
    "        return recomendaciones_dict\n",
    "    else:\n",
    "        \n",
    "        error_data = {'error': 'No se encontraron recomendaciones para el ID proporcionado'}\n",
    "        return JSONResponse(content=error_data, status_code=404)\n"
   ]
  },
  {
   "cell_type": "code",
   "execution_count": 261,
   "metadata": {},
   "outputs": [
    {
     "data": {
      "text/plain": [
       "{1: 'Alien breed 2: assault',\n",
       " 2: 'Alien breed: impact',\n",
       " 3: 'Alien rage - unlimited',\n",
       " 4: 'Alien: isolation',\n",
       " 5: 'Aliens versus predator classic 2000'}"
      ]
     },
     "execution_count": 261,
     "metadata": {},
     "output_type": "execute_result"
    }
   ],
   "source": [
    "obtener_recomendaciones_por_item_id(10)"
   ]
  },
  {
   "cell_type": "code",
   "execution_count": 262,
   "metadata": {},
   "outputs": [
    {
     "data": {
      "text/plain": [
       "{1: 'Aperture tag: the paint gun testing initiative',\n",
       " 2: 'Battleblock theater®',\n",
       " 3: 'Beatbuddy: tale of the guardians',\n",
       " 4: 'Bloody trapland',\n",
       " 5: 'Broforce'}"
      ]
     },
     "execution_count": 262,
     "metadata": {},
     "output_type": "execute_result"
    }
   ],
   "source": [
    "obtener_recomendaciones_por_item_id(449940)"
   ]
  },
  {
   "cell_type": "code",
   "execution_count": 263,
   "metadata": {},
   "outputs": [
    {
     "data": {
      "text/plain": [
       "{1: 'Faeria',\n",
       " 2: 'Infinity wars: animated trading card game',\n",
       " 3: 'Saga',\n",
       " 4: 'Spellweaver',\n",
       " 5: 'Астролорды: облако оорта'}"
      ]
     },
     "execution_count": 263,
     "metadata": {},
     "output_type": "execute_result"
    }
   ],
   "source": [
    "obtener_recomendaciones_por_item_id(385530)"
   ]
  },
  {
   "cell_type": "code",
   "execution_count": 264,
   "metadata": {},
   "outputs": [
    {
     "data": {
      "text/plain": [
       "{1: '404sight',\n",
       " 2: 'And yet it moves',\n",
       " 3: 'Assault android cactus',\n",
       " 4: 'Astebreed: definitive edition',\n",
       " 5: 'Blade symphony'}"
      ]
     },
     "execution_count": 264,
     "metadata": {},
     "output_type": "execute_result"
    }
   ],
   "source": [
    "obtener_recomendaciones_por_item_id(270090)"
   ]
  },
  {
   "cell_type": "code",
   "execution_count": 265,
   "metadata": {},
   "outputs": [
    {
     "data": {
      "text/plain": [
       "{1: 'Carmageddon max pack',\n",
       " 2: 'O3dx',\n",
       " 3: 'Obliteracers',\n",
       " 4: 'Speed kills',\n",
       " 5: 'T.e.c. 3001'}"
      ]
     },
     "execution_count": 265,
     "metadata": {},
     "output_type": "execute_result"
    }
   ],
   "source": [
    "obtener_recomendaciones_por_item_id(220820)"
   ]
  },
  {
   "cell_type": "markdown",
   "metadata": {},
   "source": [
    "ESTA DAFRAME DE NOMBRE RESULT Y SU CORRESPONDIENTE ARCHIVO PARQUET SERAN LOS USADOS EN EL DESPLIEGUE DE LA API"
   ]
  },
  {
   "cell_type": "code",
   "execution_count": 2,
   "metadata": {},
   "outputs": [],
   "source": [
    "def obtener(item_id):\n",
    "    fila = result[result['item_id'] == item_id]['recommended'].iloc[0]\n",
    "    # Verificar si la lista de recomendaciones no está vacía\n",
    "    if len(fila) > 0:\n",
    "        fila_dict = {i + 1: juego for i, juego in enumerate(fila)}\n",
    "        return fila_dict\n",
    "    else:\n",
    "        # Si la lista de recomendaciones está vacía, devolver un diccionario vacío\n",
    "        return {}"
   ]
  },
  {
   "cell_type": "code",
   "execution_count": 3,
   "metadata": {},
   "outputs": [],
   "source": [
    "result = pd.read_parquet('result.parquet')"
   ]
  },
  {
   "cell_type": "code",
   "execution_count": 5,
   "metadata": {},
   "outputs": [
    {
     "data": {
      "text/html": [
       "<div>\n",
       "<style scoped>\n",
       "    .dataframe tbody tr th:only-of-type {\n",
       "        vertical-align: middle;\n",
       "    }\n",
       "\n",
       "    .dataframe tbody tr th {\n",
       "        vertical-align: top;\n",
       "    }\n",
       "\n",
       "    .dataframe thead th {\n",
       "        text-align: right;\n",
       "    }\n",
       "</style>\n",
       "<table border=\"1\" class=\"dataframe\">\n",
       "  <thead>\n",
       "    <tr style=\"text-align: right;\">\n",
       "      <th></th>\n",
       "      <th>recommended</th>\n",
       "      <th>item_id</th>\n",
       "    </tr>\n",
       "  </thead>\n",
       "  <tbody>\n",
       "    <tr>\n",
       "      <th>0</th>\n",
       "      <td>[Aperture tag: the paint gun testing initiativ...</td>\n",
       "      <td>449940</td>\n",
       "    </tr>\n",
       "    <tr>\n",
       "      <th>1</th>\n",
       "      <td>[Aperture tag: the paint gun testing initiativ...</td>\n",
       "      <td>449940</td>\n",
       "    </tr>\n",
       "    <tr>\n",
       "      <th>2</th>\n",
       "      <td>[Aperture tag: the paint gun testing initiativ...</td>\n",
       "      <td>449940</td>\n",
       "    </tr>\n",
       "    <tr>\n",
       "      <th>3</th>\n",
       "      <td>[Aperture tag: the paint gun testing initiativ...</td>\n",
       "      <td>449940</td>\n",
       "    </tr>\n",
       "    <tr>\n",
       "      <th>4</th>\n",
       "      <td>[404sight, And yet it moves, Assault android c...</td>\n",
       "      <td>270090</td>\n",
       "    </tr>\n",
       "  </tbody>\n",
       "</table>\n",
       "</div>"
      ],
      "text/plain": [
       "                                         recommended  item_id\n",
       "0  [Aperture tag: the paint gun testing initiativ...   449940\n",
       "1  [Aperture tag: the paint gun testing initiativ...   449940\n",
       "2  [Aperture tag: the paint gun testing initiativ...   449940\n",
       "3  [Aperture tag: the paint gun testing initiativ...   449940\n",
       "4  [404sight, And yet it moves, Assault android c...   270090"
      ]
     },
     "execution_count": 5,
     "metadata": {},
     "output_type": "execute_result"
    }
   ],
   "source": [
    "result.head()"
   ]
  },
  {
   "cell_type": "code",
   "execution_count": 9,
   "metadata": {},
   "outputs": [
    {
     "data": {
      "text/plain": [
       "{1: 'Aperture tag: the paint gun testing initiative',\n",
       " 2: 'Battleblock theater®',\n",
       " 3: 'Beatbuddy: tale of the guardians',\n",
       " 4: 'Bloody trapland',\n",
       " 5: 'Broforce'}"
      ]
     },
     "execution_count": 9,
     "metadata": {},
     "output_type": "execute_result"
    }
   ],
   "source": [
    "obtener(449940)"
   ]
  },
  {
   "cell_type": "code",
   "execution_count": 10,
   "metadata": {},
   "outputs": [
    {
     "data": {
      "text/plain": [
       "{1: '404sight',\n",
       " 2: 'And yet it moves',\n",
       " 3: 'Assault android cactus',\n",
       " 4: 'Astebreed: definitive edition',\n",
       " 5: 'Blade symphony'}"
      ]
     },
     "execution_count": 10,
     "metadata": {},
     "output_type": "execute_result"
    }
   ],
   "source": [
    "obtener(270090)"
   ]
  }
 ],
 "metadata": {
  "kernelspec": {
   "display_name": "Python 3",
   "language": "python",
   "name": "python3"
  },
  "language_info": {
   "codemirror_mode": {
    "name": "ipython",
    "version": 3
   },
   "file_extension": ".py",
   "mimetype": "text/x-python",
   "name": "python",
   "nbconvert_exporter": "python",
   "pygments_lexer": "ipython3",
   "version": "3.11.5"
  },
  "orig_nbformat": 4
 },
 "nbformat": 4,
 "nbformat_minor": 2
}
