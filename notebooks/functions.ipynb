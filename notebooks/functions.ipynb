{
 "cells": [
  {
   "cell_type": "code",
   "execution_count": 1,
   "metadata": {},
   "outputs": [],
   "source": [
    "import pandas as pd"
   ]
  },
  {
   "cell_type": "code",
   "execution_count": 2,
   "metadata": {},
   "outputs": [],
   "source": [
    "games_reviews_items = pd.read_parquet('games_reviews_items.parquet')"
   ]
  },
  {
   "cell_type": "code",
   "execution_count": 8,
   "metadata": {},
   "outputs": [
    {
     "data": {
      "text/html": [
       "<div>\n",
       "<style scoped>\n",
       "    .dataframe tbody tr th:only-of-type {\n",
       "        vertical-align: middle;\n",
       "    }\n",
       "\n",
       "    .dataframe tbody tr th {\n",
       "        vertical-align: top;\n",
       "    }\n",
       "\n",
       "    .dataframe thead th {\n",
       "        text-align: right;\n",
       "    }\n",
       "</style>\n",
       "<table border=\"1\" class=\"dataframe\">\n",
       "  <thead>\n",
       "    <tr style=\"text-align: right;\">\n",
       "      <th></th>\n",
       "      <th>genres</th>\n",
       "      <th>title</th>\n",
       "      <th>price</th>\n",
       "      <th>item_id</th>\n",
       "      <th>developer</th>\n",
       "      <th>release_year</th>\n",
       "      <th>recommend</th>\n",
       "      <th>user_id</th>\n",
       "      <th>sentiment_analysis</th>\n",
       "      <th>posted_year</th>\n",
       "      <th>playtime_forever</th>\n",
       "    </tr>\n",
       "  </thead>\n",
       "  <tbody>\n",
       "    <tr>\n",
       "      <th>113961</th>\n",
       "      <td>Free to play</td>\n",
       "      <td>Puzzle pirates</td>\n",
       "      <td>0.0</td>\n",
       "      <td>99910</td>\n",
       "      <td>Three rings</td>\n",
       "      <td>2011</td>\n",
       "      <td>True</td>\n",
       "      <td>WhenWeWereYoungggg</td>\n",
       "      <td>2</td>\n",
       "      <td>2012</td>\n",
       "      <td>360674</td>\n",
       "    </tr>\n",
       "    <tr>\n",
       "      <th>113962</th>\n",
       "      <td>Strategy</td>\n",
       "      <td>Puzzle pirates</td>\n",
       "      <td>0.0</td>\n",
       "      <td>99910</td>\n",
       "      <td>Three rings</td>\n",
       "      <td>2011</td>\n",
       "      <td>True</td>\n",
       "      <td>Jezza453</td>\n",
       "      <td>0</td>\n",
       "      <td>2015</td>\n",
       "      <td>360674</td>\n",
       "    </tr>\n",
       "  </tbody>\n",
       "</table>\n",
       "</div>"
      ],
      "text/plain": [
       "              genres           title  price item_id    developer  \\\n",
       "113961  Free to play  Puzzle pirates    0.0   99910  Three rings   \n",
       "113962      Strategy  Puzzle pirates    0.0   99910  Three rings   \n",
       "\n",
       "        release_year  recommend             user_id  sentiment_analysis  \\\n",
       "113961          2011       True  WhenWeWereYoungggg                   2   \n",
       "113962          2011       True            Jezza453                   0   \n",
       "\n",
       "        posted_year  playtime_forever  \n",
       "113961         2012            360674  \n",
       "113962         2015            360674  "
      ]
     },
     "execution_count": 8,
     "metadata": {},
     "output_type": "execute_result"
    }
   ],
   "source": [
    "games_reviews_items.tail(2)"
   ]
  },
  {
   "cell_type": "markdown",
   "metadata": {},
   "source": [
    "Debes crear las siguientes funciones para los endpoints que se consumirán en la API, recuerden que deben tener un decorador por cada una (@app.get(‘/’))."
   ]
  },
  {
   "cell_type": "markdown",
   "metadata": {},
   "source": [
    "def PlayTimeGenre( genero : str ): Debe devolver año con mas horas jugadas para dicho género.\n",
    "Ejemplo de retorno: {\"Año de lanzamiento con más horas jugadas para Género X\" : 2013}"
   ]
  },
  {
   "cell_type": "code",
   "execution_count": 51,
   "metadata": {},
   "outputs": [],
   "source": [
    "def PlayTimeGenre(genero: str, data: pd.DataFrame):\n",
    "    \n",
    "    genre_data = data[data['genres'] == genero]\n",
    "\n",
    "    \n",
    "    year_playtime = genre_data.groupby('release_year')['playtime_forever'].sum()\n",
    "\n",
    "    \n",
    "    year_with_most_playtime = year_playtime.idxmax()\n",
    "\n",
    "    return {\"Año de lanzamiento con más minutos jugados para Género {}: {}\".format(genero, year_with_most_playtime)}"
   ]
  },
  {
   "cell_type": "code",
   "execution_count": 52,
   "metadata": {},
   "outputs": [
    {
     "data": {
      "text/plain": [
       "{'Año de lanzamiento con más minutos jugados para Género Action: 2012'}"
      ]
     },
     "execution_count": 52,
     "metadata": {},
     "output_type": "execute_result"
    }
   ],
   "source": [
    "PlayTimeGenre('Action', games_reviews_items)"
   ]
  },
  {
   "cell_type": "code",
   "execution_count": 54,
   "metadata": {},
   "outputs": [
    {
     "data": {
      "text/plain": [
       "{'Año de lanzamiento con más minutos jugados para Género Strategy: 2010'}"
      ]
     },
     "execution_count": 54,
     "metadata": {},
     "output_type": "execute_result"
    }
   ],
   "source": [
    "PlayTimeGenre('Strategy', games_reviews_items)"
   ]
  },
  {
   "cell_type": "code",
   "execution_count": 55,
   "metadata": {},
   "outputs": [
    {
     "data": {
      "text/plain": [
       "{'Año de lanzamiento con más minutos jugados para Género Free to play: 2017'}"
      ]
     },
     "execution_count": 55,
     "metadata": {},
     "output_type": "execute_result"
    }
   ],
   "source": [
    "PlayTimeGenre('Free to play', games_reviews_items)"
   ]
  },
  {
   "cell_type": "code",
   "execution_count": 57,
   "metadata": {},
   "outputs": [
    {
     "data": {
      "text/plain": [
       "{'Año de lanzamiento con más minutos jugados para Género Adventure: 2011'}"
      ]
     },
     "execution_count": 57,
     "metadata": {},
     "output_type": "execute_result"
    }
   ],
   "source": [
    "PlayTimeGenre('Adventure', games_reviews_items)"
   ]
  },
  {
   "cell_type": "code",
   "execution_count": 56,
   "metadata": {},
   "outputs": [
    {
     "data": {
      "text/plain": [
       "{'Año de lanzamiento con más minutos jugados para Género Casual: 2017'}"
      ]
     },
     "execution_count": 56,
     "metadata": {},
     "output_type": "execute_result"
    }
   ],
   "source": [
    "PlayTimeGenre('Casual', games_reviews_items)"
   ]
  },
  {
   "cell_type": "markdown",
   "metadata": {},
   "source": [
    "def UserForGenre( genero : str ): Debe devolver el usuario que acumula más horas jugadas para el género dado y una lista de la acumulación de horas jugadas por año.\n",
    "Ejemplo de retorno: {\"Usuario con más horas jugadas para Género X\" : us213ndjss09sdf, \"Horas jugadas\":[{Año: 2013, Horas: 203}, {Año: 2012, Horas: 100}, {Año: 2011, Horas: 23}]}"
   ]
  },
  {
   "cell_type": "code",
   "execution_count": 46,
   "metadata": {},
   "outputs": [],
   "source": [
    "def UserForGenre(genero: str, data: pd.DataFrame):\n",
    "    \n",
    "    genre_data = data[data['genres'] == genero]\n",
    "\n",
    "    \n",
    "    user_year_playtime = genre_data.groupby(['user_id', 'posted_year'])['playtime_forever'].sum().reset_index()\n",
    "\n",
    "    \n",
    "    user_with_most_playtime = user_year_playtime.groupby('user_id')['playtime_forever'].sum().idxmax()\n",
    "\n",
    "    \n",
    "    user_most_playtime_data = user_year_playtime[user_year_playtime['user_id'] == user_with_most_playtime]\n",
    "\n",
    "    \n",
    "    playtime_by_year = [{\"Año\": year, \"Minutos\": hours} for year, hours in user_most_playtime_data[['posted_year', 'playtime_forever']].values]\n",
    "\n",
    "    \n",
    "    result = {\n",
    "        \"Usuario con más minutos jugados para Género {}: {}\".format(genero, user_with_most_playtime): playtime_by_year\n",
    "    }\n",
    "\n",
    "    return result"
   ]
  },
  {
   "cell_type": "code",
   "execution_count": 47,
   "metadata": {},
   "outputs": [
    {
     "data": {
      "text/plain": [
       "{'Usuario con más minutos jugados para Género Action: BuffinMutton': [{'Año': 0,\n",
       "   'Minutos': 30558990},\n",
       "  {'Año': 2015, 'Minutos': 568974897}]}"
      ]
     },
     "execution_count": 47,
     "metadata": {},
     "output_type": "execute_result"
    }
   ],
   "source": [
    "UserForGenre(\"Action\", games_reviews_items)"
   ]
  },
  {
   "cell_type": "code",
   "execution_count": 58,
   "metadata": {},
   "outputs": [
    {
     "data": {
      "text/plain": [
       "{'Usuario con más minutos jugados para Género Strategy: Slavishbear': [{'Año': 0,\n",
       "   'Minutos': 36769818},\n",
       "  {'Año': 2015, 'Minutos': 74161970}]}"
      ]
     },
     "execution_count": 58,
     "metadata": {},
     "output_type": "execute_result"
    }
   ],
   "source": [
    "UserForGenre(\"Strategy\", games_reviews_items)"
   ]
  },
  {
   "cell_type": "code",
   "execution_count": 48,
   "metadata": {},
   "outputs": [
    {
     "data": {
      "text/plain": [
       "{'Usuario con más minutos jugados para Género Free to play: Killerbadboys': [{'Año': 2013,\n",
       "   'Minutos': 30537228},\n",
       "  {'Año': 2014, 'Minutos': 123876735}]}"
      ]
     },
     "execution_count": 48,
     "metadata": {},
     "output_type": "execute_result"
    }
   ],
   "source": [
    "UserForGenre(\"Free to play\", games_reviews_items)"
   ]
  },
  {
   "cell_type": "code",
   "execution_count": 59,
   "metadata": {},
   "outputs": [
    {
     "data": {
      "text/plain": [
       "{'Usuario con más minutos jugados para Género Adventure: tarjla': [{'Año': 0,\n",
       "   'Minutos': 5717355},\n",
       "  {'Año': 2013, 'Minutos': 152423549},\n",
       "  {'Año': 2014, 'Minutos': 106694311}]}"
      ]
     },
     "execution_count": 59,
     "metadata": {},
     "output_type": "execute_result"
    }
   ],
   "source": [
    "UserForGenre(\"Adventure\", games_reviews_items)"
   ]
  },
  {
   "cell_type": "code",
   "execution_count": 60,
   "metadata": {},
   "outputs": [
    {
     "data": {
      "text/plain": [
       "{'Usuario con más minutos jugados para Género Casual: frikcha': [{'Año': 2014,\n",
       "   'Minutos': 26325264},\n",
       "  {'Año': 2015, 'Minutos': 54364885}]}"
      ]
     },
     "execution_count": 60,
     "metadata": {},
     "output_type": "execute_result"
    }
   ],
   "source": [
    "UserForGenre(\"Casual\", games_reviews_items)"
   ]
  },
  {
   "cell_type": "markdown",
   "metadata": {},
   "source": [
    "def UsersRecommend( año : int ): Devuelve el top 3 de juegos MÁS recomendados por usuarios para el año dado. (reviews.recommend = True y comentarios positivos/neutrales)\n",
    "Ejemplo de retorno: [{\"Puesto 1\" : X}, {\"Puesto 2\" : Y},{\"Puesto 3\" : Z}]"
   ]
  },
  {
   "cell_type": "code",
   "execution_count": 61,
   "metadata": {},
   "outputs": [],
   "source": [
    "def UsersRecommend(año: int, data: pd.DataFrame):\n",
    "    \n",
    "    filtered_data = data[(data['posted_year'] == año) & (data['recommend'] == True) & (data['sentiment_analysis'].isin([1, 2]))]\n",
    "\n",
    "    game_recommendations = filtered_data.groupby('title')['recommend'].count().reset_index()\n",
    "\n",
    "    game_recommendations = game_recommendations.sort_values(by='recommend', ascending=False)\n",
    "\n",
    "    top_3_games = game_recommendations.head(3)\n",
    "\n",
    "    results = [{\"Puesto {}: {}\".format(i + 1, game)} for i, game in enumerate(top_3_games['title'])]\n",
    "\n",
    "    return results"
   ]
  },
  {
   "cell_type": "code",
   "execution_count": 70,
   "metadata": {},
   "outputs": [
    {
     "data": {
      "text/plain": [
       "[{'Puesto 1: Terraria'}, {'Puesto 2: Portal 2'}, {\"Puesto 3: Garry's mod\"}]"
      ]
     },
     "execution_count": 70,
     "metadata": {},
     "output_type": "execute_result"
    }
   ],
   "source": [
    "UsersRecommend(2011, games_reviews_items)"
   ]
  },
  {
   "cell_type": "code",
   "execution_count": 69,
   "metadata": {},
   "outputs": [
    {
     "data": {
      "text/plain": [
       "[{'Puesto 1: Terraria'},\n",
       " {\"Puesto 2: Garry's mod\"},\n",
       " {'Puesto 3: Realm of the mad god'}]"
      ]
     },
     "execution_count": 69,
     "metadata": {},
     "output_type": "execute_result"
    }
   ],
   "source": [
    "UsersRecommend(2012, games_reviews_items)"
   ]
  },
  {
   "cell_type": "code",
   "execution_count": 62,
   "metadata": {},
   "outputs": [
    {
     "data": {
      "text/plain": [
       "[{\"Puesto 1: Garry's mod\"}, {'Puesto 2: Terraria'}, {'Puesto 3: Starbound'}]"
      ]
     },
     "execution_count": 62,
     "metadata": {},
     "output_type": "execute_result"
    }
   ],
   "source": [
    "UsersRecommend(2013, games_reviews_items)"
   ]
  },
  {
   "cell_type": "code",
   "execution_count": 63,
   "metadata": {},
   "outputs": [
    {
     "data": {
      "text/plain": [
       "[{'Puesto 1: Unturned'}, {'Puesto 2: Rust'}, {\"Puesto 3: Garry's mod\"}]"
      ]
     },
     "execution_count": 63,
     "metadata": {},
     "output_type": "execute_result"
    }
   ],
   "source": [
    "UsersRecommend(2014, games_reviews_items)"
   ]
  },
  {
   "cell_type": "code",
   "execution_count": 64,
   "metadata": {},
   "outputs": [
    {
     "data": {
      "text/plain": [
       "[{'Puesto 1: Counter-strike: global offensive'},\n",
       " {'Puesto 2: Unturned'},\n",
       " {'Puesto 3: Rust'}]"
      ]
     },
     "execution_count": 64,
     "metadata": {},
     "output_type": "execute_result"
    }
   ],
   "source": [
    "UsersRecommend(2015, games_reviews_items)"
   ]
  },
  {
   "cell_type": "markdown",
   "metadata": {},
   "source": [
    "def UsersNotRecommend( año : int ): Devuelve el top 3 de juegos MENOS recomendados por usuarios para el año dado. (reviews.recommend = False y comentarios negativos)\n",
    "Ejemplo de retorno: [{\"Puesto 1\" : X}, {\"Puesto 2\" : Y},{\"Puesto 3\" : Z}]"
   ]
  },
  {
   "cell_type": "code",
   "execution_count": 71,
   "metadata": {},
   "outputs": [],
   "source": [
    "def UsersNotRecommend(año: int, data: pd.DataFrame):\n",
    "    \n",
    "    filtered_data = data[(data['posted_year'] == año) & (data['recommend'] == False) & (data['sentiment_analysis'] == 0)]\n",
    "\n",
    "    game_not_recommendations = filtered_data.groupby('title')['recommend'].count().reset_index()\n",
    "\n",
    "    game_not_recommendations = game_not_recommendations.sort_values(by='recommend', ascending=False)\n",
    "\n",
    "    top_3_games = game_not_recommendations.head(3)\n",
    "\n",
    "    results = [{\"Puesto {}: {}\".format(i + 1, game)} for i, game in enumerate(top_3_games['title'])]\n",
    "\n",
    "    return results"
   ]
  },
  {
   "cell_type": "code",
   "execution_count": 72,
   "metadata": {},
   "outputs": [
    {
     "data": {
      "text/plain": [
       "[{'Puesto 1: And yet it moves'},\n",
       " {'Puesto 2: From dust'},\n",
       " {'Puesto 3: Men of war: vietnam'}]"
      ]
     },
     "execution_count": 72,
     "metadata": {},
     "output_type": "execute_result"
    }
   ],
   "source": [
    "UsersNotRecommend(2011, games_reviews_items)"
   ]
  },
  {
   "cell_type": "code",
   "execution_count": 73,
   "metadata": {},
   "outputs": [
    {
     "data": {
      "text/plain": [
       "[{'Puesto 1: Red faction®: armageddon™'},\n",
       " {'Puesto 2: Resident evil: operation raccoon city'},\n",
       " {\"Puesto 3: The kings' crusade\"}]"
      ]
     },
     "execution_count": 73,
     "metadata": {},
     "output_type": "execute_result"
    }
   ],
   "source": [
    "UsersNotRecommend(2012, games_reviews_items)"
   ]
  },
  {
   "cell_type": "code",
   "execution_count": 74,
   "metadata": {},
   "outputs": [
    {
     "data": {
      "text/plain": [
       "[{'Puesto 1: Rust'},\n",
       " {'Puesto 2: Nether: resurrected'},\n",
       " {'Puesto 3: No more room in hell'}]"
      ]
     },
     "execution_count": 74,
     "metadata": {},
     "output_type": "execute_result"
    }
   ],
   "source": [
    "UsersNotRecommend(2013, games_reviews_items)"
   ]
  },
  {
   "cell_type": "code",
   "execution_count": 75,
   "metadata": {},
   "outputs": [
    {
     "data": {
      "text/plain": [
       "[{'Puesto 1: Dayz'}, {'Puesto 2: Unturned'}, {'Puesto 3: Thehunter classic'}]"
      ]
     },
     "execution_count": 75,
     "metadata": {},
     "output_type": "execute_result"
    }
   ],
   "source": [
    "UsersNotRecommend(2014, games_reviews_items)"
   ]
  },
  {
   "cell_type": "code",
   "execution_count": 76,
   "metadata": {},
   "outputs": [
    {
     "data": {
      "text/plain": [
       "[{'Puesto 1: Dayz'}, {'Puesto 2: Rust'}, {'Puesto 3: Unturned'}]"
      ]
     },
     "execution_count": 76,
     "metadata": {},
     "output_type": "execute_result"
    }
   ],
   "source": [
    "UsersNotRecommend(2015, games_reviews_items)"
   ]
  },
  {
   "cell_type": "markdown",
   "metadata": {},
   "source": [
    "def sentiment_analysis( año : int ): Según el año de lanzamiento, se devuelve una lista con la cantidad de registros de reseñas de usuarios que se encuentren categorizados con un análisis de sentimiento.\n",
    "Ejemplo de retorno: {Negative = 182, Neutral = 120, Positive = 278}"
   ]
  },
  {
   "cell_type": "code",
   "execution_count": 77,
   "metadata": {},
   "outputs": [],
   "source": [
    "def sentiment_analysis(año: int, data: pd.DataFrame):\n",
    "\n",
    "    filtered_data = data[data['release_year'] == año]\n",
    "\n",
    "    sentiment_counts = filtered_data['sentiment_analysis'].value_counts()\n",
    "\n",
    "    results = {\n",
    "        \"Negative\": sentiment_counts.get(0, 0),\n",
    "        \"Neutral\": sentiment_counts.get(1, 0),\n",
    "        \"Positive\": sentiment_counts.get(2, 0)\n",
    "    }\n",
    "\n",
    "    return results"
   ]
  },
  {
   "cell_type": "code",
   "execution_count": 80,
   "metadata": {},
   "outputs": [
    {
     "data": {
      "text/plain": [
       "{'Negative': 1764, 'Neutral': 2082, 'Positive': 5634}"
      ]
     },
     "execution_count": 80,
     "metadata": {},
     "output_type": "execute_result"
    }
   ],
   "source": [
    "sentiment_analysis(2011, games_reviews_items)"
   ]
  },
  {
   "cell_type": "code",
   "execution_count": 81,
   "metadata": {},
   "outputs": [
    {
     "data": {
      "text/plain": [
       "{'Negative': 3635, 'Neutral': 3541, 'Positive': 9357}"
      ]
     },
     "execution_count": 81,
     "metadata": {},
     "output_type": "execute_result"
    }
   ],
   "source": [
    "sentiment_analysis(2012, games_reviews_items)"
   ]
  },
  {
   "cell_type": "code",
   "execution_count": 83,
   "metadata": {},
   "outputs": [
    {
     "data": {
      "text/plain": [
       "{'Negative': 4967, 'Neutral': 4321, 'Positive': 12137}"
      ]
     },
     "execution_count": 83,
     "metadata": {},
     "output_type": "execute_result"
    }
   ],
   "source": [
    "sentiment_analysis(2013, games_reviews_items)"
   ]
  },
  {
   "cell_type": "code",
   "execution_count": 82,
   "metadata": {},
   "outputs": [
    {
     "data": {
      "text/plain": [
       "{'Negative': 4225, 'Neutral': 3378, 'Positive': 9440}"
      ]
     },
     "execution_count": 82,
     "metadata": {},
     "output_type": "execute_result"
    }
   ],
   "source": [
    "sentiment_analysis(2014, games_reviews_items)"
   ]
  },
  {
   "cell_type": "code",
   "execution_count": 84,
   "metadata": {},
   "outputs": [
    {
     "data": {
      "text/plain": [
       "{'Negative': 4335, 'Neutral': 3814, 'Positive': 9848}"
      ]
     },
     "execution_count": 84,
     "metadata": {},
     "output_type": "execute_result"
    }
   ],
   "source": [
    "sentiment_analysis(2015, games_reviews_items)"
   ]
  }
 ],
 "metadata": {
  "kernelspec": {
   "display_name": "Python 3",
   "language": "python",
   "name": "python3"
  },
  "language_info": {
   "codemirror_mode": {
    "name": "ipython",
    "version": 3
   },
   "file_extension": ".py",
   "mimetype": "text/x-python",
   "name": "python",
   "nbconvert_exporter": "python",
   "pygments_lexer": "ipython3",
   "version": "3.11.5"
  },
  "orig_nbformat": 4
 },
 "nbformat": 4,
 "nbformat_minor": 2
}
